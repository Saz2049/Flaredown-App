{
 "cells": [
  {
   "cell_type": "markdown",
   "metadata": {},
   "source": [
    "# Brainstation Flaredown Capstone: Project Summary"
   ]
  },
  {
   "cell_type": "markdown",
   "metadata": {},
   "source": [
    "**Author:** Sarah Gates\n",
    "\n",
    "**Date:** September 2022\n",
    "\n",
    "**Contact:** sarahgates2015@u.northwestern.edu"
   ]
  },
  {
   "cell_type": "markdown",
   "metadata": {},
   "source": [
    "# Table of Contents\n",
    "\n",
    "* [1. Introduction](#intro-bullet)\n",
    "\n",
    "    * [a. What is Flaredown?](#intro-bullet1)\n",
    "    * [b. Original Data Format](#intro-bullet2)\n",
    "    * [c. Capstone Target Question](#intro-bullet3)\n",
    "\n",
    "    <br>\n",
    "\n",
    "* [2. Cleaning, Filtering, and EDA: Round 1](#First-bullet)\n",
    "\n",
    "    * [a. Exploration and Basic Cleaning](#First-bullet1)\n",
    "        * [i. User Ids]()\n",
    "        * [ii. Age]()\n",
    "        * [ii. Sex]()\n",
    "        * [iii. Country]()\n",
    "        * [iv. Check-in Date]()\n",
    "        * [v. Trackable ID]()\n",
    "        * [vi. Trackable Type]()\n",
    "        * [ vii. Trackable Name]()\n",
    "        * [viii. Trackable Value]()\n",
    "        \n",
    "        <br>\n",
    "        \n",
    "    * [b. Initial Filtering and Entity Resolution]()\n",
    "        * [i. Symptom and Condition Filtering]()\n",
    "        * [ii. Manual Entity Resolution]()\n",
    "        * [ii. Fibromyalgia and Non-fibromyalgia Split]()\n",
    "        * [iii. Condition Selection]()\n",
    "        * [iv. Symptom Selection]()\n",
    "        * [v. Easy and Hard Data Sets]()\n",
    "\n",
    "        <br>\n",
    "\n",
    "    * [c. Aggregation and Feature Engineering]()\n",
    "        * [i. Manual Entity Resolution ]()\n",
    "\n",
    "        <br>\n",
    "\n",
    "* [3. Modeling: Round 1](#Second-bullet)\n",
    "\n"
   ]
  },
  {
   "cell_type": "markdown",
   "metadata": {},
   "source": [
    "# 1. Introduction\n",
    "\n",
    "This notebook contains a concise summary of my BrainStation Flaredown Capstone project. Each portion of the project is discussed in detail, and the important findings are highlighted.\n",
    "\n",
    "\n",
    "\n"
   ]
  },
  {
   "cell_type": "markdown",
   "metadata": {},
   "source": [
    "## a. What is Flaredown?<a class=\"anchor\" id=\"intro-bullet1\"></a>"
   ]
  },
  {
   "cell_type": "markdown",
   "metadata": {},
   "source": [
    "Flaredown is an app that helps patients of chronic autoimmune and invisible illnesses improve their symptoms by avoiding triggers and evaluating their treatments. Each day, patients track their symptom severity, treatments and doses, and any potential environmental triggers (foods, stress, allergens, etc) they encounter.\n",
    "About the data\n",
    "\n",
    "Instead of coupling symptoms to a particular illness, Flaredown asks users to create their unique set of conditions, symptoms and treatments (“trackables”). They can then “check-in” each day and record the severity of symptoms and conditions, the doses of treatments, and “tag” the day with any unexpected environmental factors.\n",
    "\n",
    "Here is the kaggle link for the dataset: https://www.kaggle.com/datasets/flaredown/flaredown-autoimmune-symptom-tracker"
   ]
  },
  {
   "cell_type": "markdown",
   "metadata": {},
   "source": [
    "## b. Original Data Format<a class=\"anchor\" id=\"intro-bullet2\"></a>"
   ]
  },
  {
   "cell_type": "markdown",
   "metadata": {},
   "source": [
    "The original data from kaggle contains the following features. Here is the description from the kaggle page:"
   ]
  },
  {
   "cell_type": "markdown",
   "metadata": {},
   "source": [
    "| Data      | Description                                                                                                                                                                                                                                                                                                                                                  |\n",
    "| --------- | ------------------------------------------------------------------------------------------------------------------------------------------------------------------------------------------------------------------------------------------------------------------------------------------------------------------------------------------------------------ |\n",
    "| User      |  includes an ID, age, sex, and country                                                                                                                                                                                                                                                                                                                       |\n",
    "| Condition | an illness or diagnosis, for example Rheumatoid Arthritis, rated on a scale of 0 (not active) to 4 (extremely active)                                                                                                                                                                                                                                        |\n",
    "| Symptom   | self-explanatory, also rated on a 0–4 scale                                                                                                                                                                                                                                                                                                                  |\n",
    "| Treatment | anything a patient uses to improve their symptoms, along with an  optional dose, which is a string that describes how much they took  during the day. For instance “3 x 5mg”                                                                                                                                                                                 |\n",
    "| Tag       | a string representing an environmental factor that does not occur every day, for example “ate dairy” or “rainy day”                                                                                                                                                                                                                                          |\n",
    "| Food      | food items were seeded from the publicly-available USDA food database. Users have also added many food items manually                                                                                                                                                                                                                                        |\n",
    "| Weather   | weather is pulled automatically for the user's postal code from the Dark  Sky API. Weather parameters include a description, precipitation  intensity, humidity, pressure, and min/max temperatures for the day                                                                                                                                              |\n",
    "| HBI       | the Harvey Bradshaw Index is a standardized metric to gauge the severity  of Crohn's disease specifically, often used in evaluation of therapies.  Patients with Crohn's disease who scored 3 or less on the HBI are very  likely to be in remission according to the CDAI. Patients with a score  of 8 to 9 or higher are considered to have severe disease |\n",
    "\n",
    "\n",
    "If users do not see a symptom, treatment, tag, or food in our database (for instance “Abdominal Pain” as a symptom) they may add it by simply naming it. This means that the data requires some cleaning, but it is patient-centered and indicates their primary concerns."
   ]
  },
  {
   "cell_type": "markdown",
   "metadata": {},
   "source": [
    "**Data Format**\n",
    "\n",
    "Below is an image of the original input dataframe, followed by a table with a description of each column:"
   ]
  },
  {
   "cell_type": "markdown",
   "metadata": {},
   "source": [
    "![alt text](dataframe.png) "
   ]
  },
  {
   "cell_type": "markdown",
   "metadata": {},
   "source": [
    "| Column           | Description                                                                                                         |\n",
    "| ---------------- | ------------------------------------------------------------------------------------------------------------------- |\n",
    "| user_id          | Contains a unique string of characters indicating each unique user in the data set                                  |\n",
    "| age              | A float value indicating the age of the user                                                                        |\n",
    "| sex              | A string indicating the sex of the user (four possible: male, female, other, doesn't say)                           |\n",
    "| country          | The abbreviated short form (e.g., GB or Great Britain) indicating the country of residence of the user              |\n",
    "| checkin-date     | The date of entry for the row                                                                                       |\n",
    "| trackable_id     | A unique id for the string entered in trackable_name                                                                |\n",
    "| trackable_type   | The type of entry, one of seven possible strings (symptom, condition, food, treatment, weather, tag or HBI)         |\n",
    "| trackable_name   | A string containing a description of the trackable_type (e.g., if Symptom, then could be 'pain in elbow')           |\n",
    "| trackable_value  | An integer ranging from 0-4 indicating the severity of the particular entry, where applicable (0 is low, 4 is high) |"
   ]
  },
  {
   "cell_type": "code",
   "execution_count": null,
   "metadata": {},
   "outputs": [],
   "source": []
  },
  {
   "cell_type": "markdown",
   "metadata": {},
   "source": [
    "## c. Capstone Target Question<a class=\"anchor\" id=\"intro-bullet3\"></a>"
   ]
  },
  {
   "cell_type": "markdown",
   "metadata": {},
   "source": [
    "The original "
   ]
  },
  {
   "cell_type": "markdown",
   "metadata": {},
   "source": [
    "# 2. Cleaning, Filtering, and EDA: Round 1"
   ]
  },
  {
   "cell_type": "markdown",
   "metadata": {},
   "source": [
    "## a. Basic Data Cleaning"
   ]
  },
  {
   "cell_type": "markdown",
   "metadata": {},
   "source": [
    "## b. "
   ]
  },
  {
   "cell_type": "code",
   "execution_count": null,
   "metadata": {},
   "outputs": [],
   "source": []
  },
  {
   "cell_type": "markdown",
   "metadata": {},
   "source": [
    "# Modeling: Round 1"
   ]
  },
  {
   "cell_type": "code",
   "execution_count": null,
   "metadata": {},
   "outputs": [],
   "source": []
  }
 ],
 "metadata": {
  "kernelspec": {
   "display_name": "Python 3.9.12 ('base')",
   "language": "python",
   "name": "python3"
  },
  "language_info": {
   "codemirror_mode": {
    "name": "ipython",
    "version": 3
   },
   "file_extension": ".py",
   "mimetype": "text/x-python",
   "name": "python",
   "nbconvert_exporter": "python",
   "pygments_lexer": "ipython3",
   "version": "3.9.12"
  },
  "orig_nbformat": 4,
  "vscode": {
   "interpreter": {
    "hash": "d0e1177edac353916fc1e06dfa4a1a750ee7964186e8a0e3bb81c2a59a81f0af"
   }
  }
 },
 "nbformat": 4,
 "nbformat_minor": 2
}
