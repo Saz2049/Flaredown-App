{
 "cells": [
  {
   "cell_type": "code",
   "execution_count": 4,
   "metadata": {},
   "outputs": [],
   "source": [
    "# to ignore warnings \n",
    "import warnings\n",
    "warnings.filterwarnings('ignore')\n",
    "\n",
    "# base libraries\n",
    "import numpy as np\n",
    "import pandas as pd\n",
    "import matplotlib.pyplot as plt\n",
    "import seaborn as sns\n",
    "\n",
    "# here are the models I will use\n",
    "from sklearn.linear_model import LogisticRegression\n",
    "from sklearn.neighbors import KNeighborsClassifier\n",
    "from sklearn.tree import DecisionTreeClassifier\n",
    "\n",
    "# for feature preprocessing\n",
    "from sklearn.preprocessing import OneHotEncoder\n",
    "from sklearn.preprocessing import MinMaxScaler\n",
    "from sklearn.preprocessing import StandardScaler\n",
    "from sklearn.model_selection import train_test_split\n",
    "from sklearn.decomposition import PCA\n",
    "\n",
    "# For model evaluation\n",
    "from sklearn.metrics import plot_confusion_matrix, confusion_matrix\n",
    "from sklearn.metrics import precision_score\n",
    "from sklearn.metrics import recall_score\n",
    "from sklearn.metrics import f1_score\n",
    "from sklearn.metrics import classification_report\n",
    "\n",
    "# for model optimization\n",
    "from sklearn.pipeline import Pipeline\n",
    "from sklearn.model_selection import GridSearchCV\n",
    "from tempfile import mkdtemp\n",
    "\n",
    "# For timings on for loops\n",
    "from tqdm.notebook import tqdm, trange\n",
    "import time   \n"
   ]
  },
  {
   "cell_type": "code",
   "execution_count": 5,
   "metadata": {},
   "outputs": [],
   "source": [
    "# importing the scripts for creating X and Y variable subsets\n",
    "import sys\n",
    "\n",
    "sys.path.append(\"C:\\\\Users\\\\sarah\\\\Documents\\\\Brainstation\\\\DataScienceBootcamp\\\\Capstone\\\\FlaredownCapstone\\\\scripts\")\n",
    "\n",
    "from variable_splitter import variable_splitter"
   ]
  },
  {
   "cell_type": "code",
   "execution_count": 6,
   "metadata": {},
   "outputs": [
    {
     "data": {
      "text/html": [
       "<div>\n",
       "<style scoped>\n",
       "    .dataframe tbody tr th:only-of-type {\n",
       "        vertical-align: middle;\n",
       "    }\n",
       "\n",
       "    .dataframe tbody tr th {\n",
       "        vertical-align: top;\n",
       "    }\n",
       "\n",
       "    .dataframe thead th {\n",
       "        text-align: right;\n",
       "    }\n",
       "</style>\n",
       "<table border=\"1\" class=\"dataframe\">\n",
       "  <thead>\n",
       "    <tr style=\"text-align: right;\">\n",
       "      <th></th>\n",
       "      <th>ids</th>\n",
       "      <th>age</th>\n",
       "      <th>gender</th>\n",
       "      <th>country</th>\n",
       "      <th>target</th>\n",
       "      <th>total_logs</th>\n",
       "      <th>total_unique_dates_days</th>\n",
       "      <th>total_log_rate</th>\n",
       "      <th>conditions_total</th>\n",
       "      <th>fibro_comorbidities</th>\n",
       "      <th>...</th>\n",
       "      <th>nerve_pain</th>\n",
       "      <th>nerve_pain_total_logs</th>\n",
       "      <th>nerve_pain_activity</th>\n",
       "      <th>nerve_pain_unique_dates_days</th>\n",
       "      <th>nerve_pain_log_rate</th>\n",
       "      <th>menstrual_cramps</th>\n",
       "      <th>menstrual_cramps_total_logs</th>\n",
       "      <th>menstrual_cramps_activity</th>\n",
       "      <th>menstrual_cramps_unique_dates_days</th>\n",
       "      <th>menstrual_cramps_log_rate</th>\n",
       "    </tr>\n",
       "  </thead>\n",
       "  <tbody>\n",
       "    <tr>\n",
       "      <th>0</th>\n",
       "      <td>14</td>\n",
       "      <td>24</td>\n",
       "      <td>female</td>\n",
       "      <td>US</td>\n",
       "      <td>1</td>\n",
       "      <td>7</td>\n",
       "      <td>1</td>\n",
       "      <td>7.000000</td>\n",
       "      <td>2</td>\n",
       "      <td>0</td>\n",
       "      <td>...</td>\n",
       "      <td>0</td>\n",
       "      <td>0</td>\n",
       "      <td>0</td>\n",
       "      <td>0</td>\n",
       "      <td>0.0</td>\n",
       "      <td>0</td>\n",
       "      <td>0</td>\n",
       "      <td>0</td>\n",
       "      <td>0</td>\n",
       "      <td>0.0</td>\n",
       "    </tr>\n",
       "    <tr>\n",
       "      <th>1</th>\n",
       "      <td>17</td>\n",
       "      <td>33</td>\n",
       "      <td>female</td>\n",
       "      <td>US</td>\n",
       "      <td>1</td>\n",
       "      <td>18</td>\n",
       "      <td>2</td>\n",
       "      <td>9.000000</td>\n",
       "      <td>3</td>\n",
       "      <td>0</td>\n",
       "      <td>...</td>\n",
       "      <td>0</td>\n",
       "      <td>0</td>\n",
       "      <td>0</td>\n",
       "      <td>0</td>\n",
       "      <td>0.0</td>\n",
       "      <td>0</td>\n",
       "      <td>0</td>\n",
       "      <td>0</td>\n",
       "      <td>0</td>\n",
       "      <td>0.0</td>\n",
       "    </tr>\n",
       "    <tr>\n",
       "      <th>2</th>\n",
       "      <td>78</td>\n",
       "      <td>29</td>\n",
       "      <td>female</td>\n",
       "      <td>US</td>\n",
       "      <td>1</td>\n",
       "      <td>16</td>\n",
       "      <td>3</td>\n",
       "      <td>5.333333</td>\n",
       "      <td>3</td>\n",
       "      <td>1</td>\n",
       "      <td>...</td>\n",
       "      <td>0</td>\n",
       "      <td>0</td>\n",
       "      <td>0</td>\n",
       "      <td>0</td>\n",
       "      <td>0.0</td>\n",
       "      <td>0</td>\n",
       "      <td>0</td>\n",
       "      <td>0</td>\n",
       "      <td>0</td>\n",
       "      <td>0.0</td>\n",
       "    </tr>\n",
       "    <tr>\n",
       "      <th>3</th>\n",
       "      <td>96</td>\n",
       "      <td>28</td>\n",
       "      <td>other</td>\n",
       "      <td>US</td>\n",
       "      <td>1</td>\n",
       "      <td>35</td>\n",
       "      <td>4</td>\n",
       "      <td>8.750000</td>\n",
       "      <td>3</td>\n",
       "      <td>2</td>\n",
       "      <td>...</td>\n",
       "      <td>0</td>\n",
       "      <td>0</td>\n",
       "      <td>0</td>\n",
       "      <td>0</td>\n",
       "      <td>0.0</td>\n",
       "      <td>0</td>\n",
       "      <td>0</td>\n",
       "      <td>0</td>\n",
       "      <td>0</td>\n",
       "      <td>0.0</td>\n",
       "    </tr>\n",
       "    <tr>\n",
       "      <th>4</th>\n",
       "      <td>126</td>\n",
       "      <td>45</td>\n",
       "      <td>female</td>\n",
       "      <td>US</td>\n",
       "      <td>1</td>\n",
       "      <td>160</td>\n",
       "      <td>8</td>\n",
       "      <td>20.000000</td>\n",
       "      <td>6</td>\n",
       "      <td>1</td>\n",
       "      <td>...</td>\n",
       "      <td>0</td>\n",
       "      <td>0</td>\n",
       "      <td>0</td>\n",
       "      <td>0</td>\n",
       "      <td>0.0</td>\n",
       "      <td>0</td>\n",
       "      <td>0</td>\n",
       "      <td>0</td>\n",
       "      <td>0</td>\n",
       "      <td>0.0</td>\n",
       "    </tr>\n",
       "  </tbody>\n",
       "</table>\n",
       "<p>5 rows × 341 columns</p>\n",
       "</div>"
      ],
      "text/plain": [
       "   ids  age  gender country  target  total_logs  total_unique_dates_days  \\\n",
       "0   14   24  female      US       1           7                        1   \n",
       "1   17   33  female      US       1          18                        2   \n",
       "2   78   29  female      US       1          16                        3   \n",
       "3   96   28   other      US       1          35                        4   \n",
       "4  126   45  female      US       1         160                        8   \n",
       "\n",
       "   total_log_rate  conditions_total  fibro_comorbidities  ...  nerve_pain  \\\n",
       "0        7.000000                 2                    0  ...           0   \n",
       "1        9.000000                 3                    0  ...           0   \n",
       "2        5.333333                 3                    1  ...           0   \n",
       "3        8.750000                 3                    2  ...           0   \n",
       "4       20.000000                 6                    1  ...           0   \n",
       "\n",
       "   nerve_pain_total_logs  nerve_pain_activity  nerve_pain_unique_dates_days  \\\n",
       "0                      0                    0                             0   \n",
       "1                      0                    0                             0   \n",
       "2                      0                    0                             0   \n",
       "3                      0                    0                             0   \n",
       "4                      0                    0                             0   \n",
       "\n",
       "   nerve_pain_log_rate  menstrual_cramps  menstrual_cramps_total_logs  \\\n",
       "0                  0.0                 0                            0   \n",
       "1                  0.0                 0                            0   \n",
       "2                  0.0                 0                            0   \n",
       "3                  0.0                 0                            0   \n",
       "4                  0.0                 0                            0   \n",
       "\n",
       "   menstrual_cramps_activity  menstrual_cramps_unique_dates_days  \\\n",
       "0                          0                                   0   \n",
       "1                          0                                   0   \n",
       "2                          0                                   0   \n",
       "3                          0                                   0   \n",
       "4                          0                                   0   \n",
       "\n",
       "   menstrual_cramps_log_rate  \n",
       "0                        0.0  \n",
       "1                        0.0  \n",
       "2                        0.0  \n",
       "3                        0.0  \n",
       "4                        0.0  \n",
       "\n",
       "[5 rows x 341 columns]"
      ]
     },
     "execution_count": 6,
     "metadata": {},
     "output_type": "execute_result"
    }
   ],
   "source": [
    "df_binary = pd.read_csv('data/chronic_agg_fibro_binary.csv', index_col = 'Unnamed: 0')\n",
    "\n",
    "df_binary.head(5)"
   ]
  },
  {
   "cell_type": "code",
   "execution_count": 7,
   "metadata": {},
   "outputs": [],
   "source": [
    "# Instantiate the OneHotEncoder\n",
    "ohe = OneHotEncoder()\n",
    "genders = pd.DataFrame(df_binary[\"gender\"])\n",
    "\n",
    "# Fit the OneHotEncoder to the subcategory column and transform\n",
    "# It expects a 2D array, so we first convert the column into a DataFrame\n",
    "gen_encoded = ohe.fit_transform(genders)\n",
    "gen_encoded\n",
    "dense_gen_encoded = gen_encoded.toarray()"
   ]
  },
  {
   "cell_type": "code",
   "execution_count": 8,
   "metadata": {},
   "outputs": [
    {
     "data": {
      "text/plain": [
       "[array(['female', 'male', 'other'], dtype=object)]"
      ]
     },
     "execution_count": 8,
     "metadata": {},
     "output_type": "execute_result"
    }
   ],
   "source": [
    "ohe.categories_"
   ]
  },
  {
   "cell_type": "code",
   "execution_count": 9,
   "metadata": {},
   "outputs": [
    {
     "data": {
      "text/html": [
       "<div>\n",
       "<style scoped>\n",
       "    .dataframe tbody tr th:only-of-type {\n",
       "        vertical-align: middle;\n",
       "    }\n",
       "\n",
       "    .dataframe tbody tr th {\n",
       "        vertical-align: top;\n",
       "    }\n",
       "\n",
       "    .dataframe thead tr th {\n",
       "        text-align: left;\n",
       "    }\n",
       "</style>\n",
       "<table border=\"1\" class=\"dataframe\">\n",
       "  <thead>\n",
       "    <tr>\n",
       "      <th></th>\n",
       "      <th>female</th>\n",
       "      <th>male</th>\n",
       "      <th>other</th>\n",
       "    </tr>\n",
       "  </thead>\n",
       "  <tbody>\n",
       "    <tr>\n",
       "      <th>0</th>\n",
       "      <td>1</td>\n",
       "      <td>0</td>\n",
       "      <td>0</td>\n",
       "    </tr>\n",
       "    <tr>\n",
       "      <th>1</th>\n",
       "      <td>1</td>\n",
       "      <td>0</td>\n",
       "      <td>0</td>\n",
       "    </tr>\n",
       "    <tr>\n",
       "      <th>2</th>\n",
       "      <td>1</td>\n",
       "      <td>0</td>\n",
       "      <td>0</td>\n",
       "    </tr>\n",
       "    <tr>\n",
       "      <th>3</th>\n",
       "      <td>0</td>\n",
       "      <td>0</td>\n",
       "      <td>1</td>\n",
       "    </tr>\n",
       "    <tr>\n",
       "      <th>4</th>\n",
       "      <td>1</td>\n",
       "      <td>0</td>\n",
       "      <td>0</td>\n",
       "    </tr>\n",
       "    <tr>\n",
       "      <th>...</th>\n",
       "      <td>...</td>\n",
       "      <td>...</td>\n",
       "      <td>...</td>\n",
       "    </tr>\n",
       "    <tr>\n",
       "      <th>20708</th>\n",
       "      <td>0</td>\n",
       "      <td>1</td>\n",
       "      <td>0</td>\n",
       "    </tr>\n",
       "    <tr>\n",
       "      <th>20709</th>\n",
       "      <td>1</td>\n",
       "      <td>0</td>\n",
       "      <td>0</td>\n",
       "    </tr>\n",
       "    <tr>\n",
       "      <th>20710</th>\n",
       "      <td>1</td>\n",
       "      <td>0</td>\n",
       "      <td>0</td>\n",
       "    </tr>\n",
       "    <tr>\n",
       "      <th>20711</th>\n",
       "      <td>1</td>\n",
       "      <td>0</td>\n",
       "      <td>0</td>\n",
       "    </tr>\n",
       "    <tr>\n",
       "      <th>20712</th>\n",
       "      <td>1</td>\n",
       "      <td>0</td>\n",
       "      <td>0</td>\n",
       "    </tr>\n",
       "  </tbody>\n",
       "</table>\n",
       "<p>20713 rows × 3 columns</p>\n",
       "</div>"
      ],
      "text/plain": [
       "      female male other\n",
       "0          1    0     0\n",
       "1          1    0     0\n",
       "2          1    0     0\n",
       "3          0    0     1\n",
       "4          1    0     0\n",
       "...      ...  ...   ...\n",
       "20708      0    1     0\n",
       "20709      1    0     0\n",
       "20710      1    0     0\n",
       "20711      1    0     0\n",
       "20712      1    0     0\n",
       "\n",
       "[20713 rows x 3 columns]"
      ]
     },
     "execution_count": 9,
     "metadata": {},
     "output_type": "execute_result"
    }
   ],
   "source": [
    "# Check\n",
    "\n",
    "gen_check = pd.DataFrame(dense_gen_encoded, columns=ohe.categories_, dtype=int)\n",
    "\n",
    "gen_check"
   ]
  },
  {
   "cell_type": "code",
   "execution_count": 10,
   "metadata": {},
   "outputs": [
    {
     "data": {
      "text/plain": [
       "Index(['female', 'male', 'other'], dtype='object')"
      ]
     },
     "execution_count": 10,
     "metadata": {},
     "output_type": "execute_result"
    }
   ],
   "source": [
    "gen_check.columns = ['female', 'male', 'other'] # changing the column names and checking work\n",
    "\n",
    "gen_check.columns"
   ]
  },
  {
   "cell_type": "code",
   "execution_count": 11,
   "metadata": {},
   "outputs": [],
   "source": [
    "# Reset index\n",
    "\n",
    "gen_check.index = df_binary.index"
   ]
  },
  {
   "cell_type": "code",
   "execution_count": 12,
   "metadata": {},
   "outputs": [
    {
     "data": {
      "text/html": [
       "<div>\n",
       "<style scoped>\n",
       "    .dataframe tbody tr th:only-of-type {\n",
       "        vertical-align: middle;\n",
       "    }\n",
       "\n",
       "    .dataframe tbody tr th {\n",
       "        vertical-align: top;\n",
       "    }\n",
       "\n",
       "    .dataframe thead th {\n",
       "        text-align: right;\n",
       "    }\n",
       "</style>\n",
       "<table border=\"1\" class=\"dataframe\">\n",
       "  <thead>\n",
       "    <tr style=\"text-align: right;\">\n",
       "      <th></th>\n",
       "      <th>ids</th>\n",
       "      <th>age</th>\n",
       "      <th>gender</th>\n",
       "      <th>country</th>\n",
       "      <th>target</th>\n",
       "      <th>total_logs</th>\n",
       "      <th>total_unique_dates_days</th>\n",
       "      <th>total_log_rate</th>\n",
       "      <th>conditions_total</th>\n",
       "      <th>fibro_comorbidities</th>\n",
       "      <th>...</th>\n",
       "      <th>nerve_pain_unique_dates_days</th>\n",
       "      <th>nerve_pain_log_rate</th>\n",
       "      <th>menstrual_cramps</th>\n",
       "      <th>menstrual_cramps_total_logs</th>\n",
       "      <th>menstrual_cramps_activity</th>\n",
       "      <th>menstrual_cramps_unique_dates_days</th>\n",
       "      <th>menstrual_cramps_log_rate</th>\n",
       "      <th>female</th>\n",
       "      <th>male</th>\n",
       "      <th>other</th>\n",
       "    </tr>\n",
       "  </thead>\n",
       "  <tbody>\n",
       "    <tr>\n",
       "      <th>0</th>\n",
       "      <td>14</td>\n",
       "      <td>24</td>\n",
       "      <td>female</td>\n",
       "      <td>US</td>\n",
       "      <td>1</td>\n",
       "      <td>7</td>\n",
       "      <td>1</td>\n",
       "      <td>7.0</td>\n",
       "      <td>2</td>\n",
       "      <td>0</td>\n",
       "      <td>...</td>\n",
       "      <td>0</td>\n",
       "      <td>0.0</td>\n",
       "      <td>0</td>\n",
       "      <td>0</td>\n",
       "      <td>0</td>\n",
       "      <td>0</td>\n",
       "      <td>0.0</td>\n",
       "      <td>1</td>\n",
       "      <td>0</td>\n",
       "      <td>0</td>\n",
       "    </tr>\n",
       "    <tr>\n",
       "      <th>1</th>\n",
       "      <td>17</td>\n",
       "      <td>33</td>\n",
       "      <td>female</td>\n",
       "      <td>US</td>\n",
       "      <td>1</td>\n",
       "      <td>18</td>\n",
       "      <td>2</td>\n",
       "      <td>9.0</td>\n",
       "      <td>3</td>\n",
       "      <td>0</td>\n",
       "      <td>...</td>\n",
       "      <td>0</td>\n",
       "      <td>0.0</td>\n",
       "      <td>0</td>\n",
       "      <td>0</td>\n",
       "      <td>0</td>\n",
       "      <td>0</td>\n",
       "      <td>0.0</td>\n",
       "      <td>1</td>\n",
       "      <td>0</td>\n",
       "      <td>0</td>\n",
       "    </tr>\n",
       "  </tbody>\n",
       "</table>\n",
       "<p>2 rows × 344 columns</p>\n",
       "</div>"
      ],
      "text/plain": [
       "   ids  age  gender country  target  total_logs  total_unique_dates_days  \\\n",
       "0   14   24  female      US       1           7                        1   \n",
       "1   17   33  female      US       1          18                        2   \n",
       "\n",
       "   total_log_rate  conditions_total  fibro_comorbidities  ...  \\\n",
       "0             7.0                 2                    0  ...   \n",
       "1             9.0                 3                    0  ...   \n",
       "\n",
       "   nerve_pain_unique_dates_days  nerve_pain_log_rate  menstrual_cramps  \\\n",
       "0                             0                  0.0                 0   \n",
       "1                             0                  0.0                 0   \n",
       "\n",
       "   menstrual_cramps_total_logs  menstrual_cramps_activity  \\\n",
       "0                            0                          0   \n",
       "1                            0                          0   \n",
       "\n",
       "   menstrual_cramps_unique_dates_days  menstrual_cramps_log_rate  female  \\\n",
       "0                                   0                        0.0       1   \n",
       "1                                   0                        0.0       1   \n",
       "\n",
       "   male  other  \n",
       "0     0      0  \n",
       "1     0      0  \n",
       "\n",
       "[2 rows x 344 columns]"
      ]
     },
     "execution_count": 12,
     "metadata": {},
     "output_type": "execute_result"
    }
   ],
   "source": [
    "# Concatenating \n",
    "\n",
    "df_binary2 = pd.concat([df_binary,gen_check], axis=1)\n",
    "\n",
    "df_binary2.head(2)"
   ]
  },
  {
   "cell_type": "code",
   "execution_count": 13,
   "metadata": {},
   "outputs": [
    {
     "name": "stdout",
     "output_type": "stream",
     "text": [
      "Total Condition / Symptom Binary length 0\n",
      "Total logs length: 0\n",
      "Median activity length: 0\n",
      "Log rate length: 0\n",
      "Unique dates length: 0\n",
      "Total Condition / Symptom Binary length 76\n",
      "Total logs length: 76\n",
      "Median activity length: 76\n",
      "Log rate length: 76\n",
      "Unique dates length: 76\n"
     ]
    }
   ],
   "source": [
    "y_binary, X_all_binary, X_basic_binary, X_CS_binary_binary, X_CS_total_logs_binary, X_CS_activity_binary, X_CS_log_rate_binary, X_CS_unique_dates_binary = variable_splitter(df_binary2)"
   ]
  },
  {
   "cell_type": "code",
   "execution_count": 14,
   "metadata": {},
   "outputs": [
    {
     "data": {
      "text/plain": [
       "Index(['age', 'female', 'other', 'fibro_comorbidities',\n",
       "       'postural_orthostatic_tachycardia_syndrome_activity',\n",
       "       'ehlers-danlos_syndrome_activity', 'irritable_bowel_syndrome_activity',\n",
       "       'osteoarthritis_activity', 'depression_activity', 'asthma_activity',\n",
       "       'anxiety_activity', 'arthritis_activity', 'insomnia_activity',\n",
       "       'endometriosis_activity', 'gerd_activity', 'lupus_activity',\n",
       "       'generalized_anxiety_disorder_activity',\n",
       "       'post-traumatic_stress_disorder_activity',\n",
       "       'chronic_fatigue_syndrome_activity', 'rheumatoid_arthritis_activity',\n",
       "       'polycystic_ovary_syndrome_(pcos)_activity', 'stomach_pain_activity',\n",
       "       'migraine_activity', 'stomach_cramps_activity',\n",
       "       'subluxation_or_dislocation_activity', 'back_pain_activity',\n",
       "       'headache_activity', 'muscle_pain_activity', 'shoulder_pain_activity',\n",
       "       'fatigue_activity', 'bloating_activity', 'abdominal_pain_activity',\n",
       "       'knee_pain_activity', 'brain_fog_activity', 'chronic_pain_activity',\n",
       "       'gas_activity', 'weakness_activity', 'constipation_activity',\n",
       "       'neck_pain_activity', 'diarrhea_activity', 'jaw_pain_activity',\n",
       "       'joint_pain_activity', 'dizziness_or_vertigo_activity',\n",
       "       'light_sensitivity_activity', 'palpitations_activity',\n",
       "       'stiffness_activity', 'sore_throat_activity',\n",
       "       'shortness_of_breath_activity', 'irritability_activity',\n",
       "       'nausea_activity', 'difficulty_concentrating_activity',\n",
       "       'chest_pain_activity', 'numbness_and_tingling_activity',\n",
       "       'acid_reflux_activity', 'swelling_activity', 'lightheadedness_activity',\n",
       "       'hand_pain_activity', 'muscle_ache_activity', 'tachycardia_activity',\n",
       "       'hip_pain_activity', 'muscle_spasm_activity', 'pelvic_pain_activity',\n",
       "       'vomiting_activity', 'foot_pain_activity', 'rash_activity',\n",
       "       'sweating_activity', 'arm_pain_activity', 'leg_pain_activity',\n",
       "       'nerve_pain_activity', 'menstrual_cramps_activity'],\n",
       "      dtype='object')"
      ]
     },
     "execution_count": 14,
     "metadata": {},
     "output_type": "execute_result"
    }
   ],
   "source": [
    "\n",
    "\n",
    "#Dropping colinear variables\n",
    "\n",
    "X_CS_activity_binary2 = X_CS_activity_binary.drop(columns=['ids','conditions_total', 'symptoms_total', 'total_unique_dates_days', 'total_logs', 'total_log_rate',])\n",
    "\n",
    "\n",
    "\n",
    "X_CS_activity_binary2.columns"
   ]
  },
  {
   "cell_type": "code",
   "execution_count": 15,
   "metadata": {},
   "outputs": [
    {
     "data": {
      "text/plain": [
       "Index(['age', 'female', 'other', 'fibro_comorbidities',\n",
       "       'postural_orthostatic_tachycardia_syndrome_activity',\n",
       "       'ehlers-danlos_syndrome_activity', 'irritable_bowel_syndrome_activity',\n",
       "       'osteoarthritis_activity', 'depression_activity', 'asthma_activity',\n",
       "       'anxiety_activity', 'arthritis_activity', 'insomnia_activity',\n",
       "       'endometriosis_activity', 'gerd_activity', 'lupus_activity',\n",
       "       'generalized_anxiety_disorder_activity',\n",
       "       'post-traumatic_stress_disorder_activity',\n",
       "       'chronic_fatigue_syndrome_activity', 'rheumatoid_arthritis_activity',\n",
       "       'polycystic_ovary_syndrome_(pcos)_activity', 'stomach_pain_activity',\n",
       "       'migraine_activity', 'stomach_cramps_activity',\n",
       "       'subluxation_or_dislocation_activity', 'back_pain_activity',\n",
       "       'headache_activity', 'muscle_pain_activity', 'shoulder_pain_activity',\n",
       "       'fatigue_activity', 'bloating_activity', 'abdominal_pain_activity',\n",
       "       'knee_pain_activity', 'brain_fog_activity', 'chronic_pain_activity',\n",
       "       'gas_activity', 'weakness_activity', 'constipation_activity',\n",
       "       'neck_pain_activity', 'diarrhea_activity', 'jaw_pain_activity',\n",
       "       'joint_pain_activity', 'dizziness_or_vertigo_activity',\n",
       "       'light_sensitivity_activity', 'palpitations_activity',\n",
       "       'stiffness_activity', 'sore_throat_activity',\n",
       "       'shortness_of_breath_activity', 'irritability_activity',\n",
       "       'nausea_activity', 'difficulty_concentrating_activity',\n",
       "       'chest_pain_activity', 'numbness_and_tingling_activity',\n",
       "       'acid_reflux_activity', 'swelling_activity', 'lightheadedness_activity',\n",
       "       'hand_pain_activity', 'muscle_ache_activity', 'tachycardia_activity',\n",
       "       'hip_pain_activity', 'muscle_spasm_activity', 'pelvic_pain_activity',\n",
       "       'vomiting_activity', 'foot_pain_activity', 'rash_activity',\n",
       "       'sweating_activity', 'arm_pain_activity', 'leg_pain_activity',\n",
       "       'nerve_pain_activity', 'menstrual_cramps_activity'],\n",
       "      dtype='object')"
      ]
     },
     "execution_count": 15,
     "metadata": {},
     "output_type": "execute_result"
    }
   ],
   "source": [
    "\n",
    "\n",
    "#Dropping colinear variables\n",
    "\n",
    "X_CS_activity_binary2 = X_CS_activity_binary.drop(columns=['ids','conditions_total', 'symptoms_total', 'total_unique_dates_days', 'total_logs', 'total_log_rate',])\n",
    "\n",
    "\n",
    "\n",
    "X_CS_activity_binary2.columns"
   ]
  },
  {
   "cell_type": "code",
   "execution_count": 16,
   "metadata": {},
   "outputs": [],
   "source": [
    "# Creating the remainder and test sets all variables\n",
    "X_remainder_AcBinary, X_test_AcBinary, y_remainder_AcBinary, y_test_AcBinary = train_test_split(X_CS_activity_binary2, y_binary, test_size=0.3, random_state=42, stratify=y_binary)"
   ]
  },
  {
   "cell_type": "code",
   "execution_count": 17,
   "metadata": {},
   "outputs": [],
   "source": [
    "# scaling remainder and test\n",
    "\n",
    "Binary_Scaler2 = StandardScaler()\n",
    "\n",
    "Binary_Scaler2.fit(X_remainder_AcBinary)\n",
    "\n",
    "X_remainder_AcBinary_scaledFin = Binary_Scaler2.transform(X_remainder_AcBinary)\n",
    "\n",
    "X_test_AcBinary_scaledFin = Binary_Scaler2.transform(X_test_AcBinary)"
   ]
  },
  {
   "cell_type": "code",
   "execution_count": 18,
   "metadata": {},
   "outputs": [
    {
     "data": {
      "text/plain": [
       "array([18, 19, 20, 21, 22, 23, 24, 25, 26, 27, 28, 29, 30, 31, 32, 33, 34,\n",
       "       35, 36, 37, 38, 39, 40, 41, 42, 43, 44, 45, 46, 47, 48, 49, 50, 51,\n",
       "       52, 53, 54, 55, 56, 57, 58, 59, 60, 61, 62, 63, 64, 65, 66, 67, 68,\n",
       "       69])"
      ]
     },
     "execution_count": 18,
     "metadata": {},
     "output_type": "execute_result"
    }
   ],
   "source": [
    "np.arange(18, 70, step=1)"
   ]
  },
  {
   "cell_type": "code",
   "execution_count": 19,
   "metadata": {},
   "outputs": [
    {
     "data": {
      "text/plain": [
       "Index(['age', 'female', 'other', 'fibro_comorbidities',\n",
       "       'postural_orthostatic_tachycardia_syndrome_activity',\n",
       "       'ehlers-danlos_syndrome_activity', 'irritable_bowel_syndrome_activity',\n",
       "       'osteoarthritis_activity', 'depression_activity', 'asthma_activity',\n",
       "       'anxiety_activity', 'arthritis_activity', 'insomnia_activity',\n",
       "       'endometriosis_activity', 'gerd_activity', 'lupus_activity',\n",
       "       'generalized_anxiety_disorder_activity',\n",
       "       'post-traumatic_stress_disorder_activity',\n",
       "       'chronic_fatigue_syndrome_activity', 'rheumatoid_arthritis_activity',\n",
       "       'polycystic_ovary_syndrome_(pcos)_activity', 'stomach_pain_activity',\n",
       "       'migraine_activity', 'stomach_cramps_activity',\n",
       "       'subluxation_or_dislocation_activity', 'back_pain_activity',\n",
       "       'headache_activity', 'muscle_pain_activity', 'shoulder_pain_activity',\n",
       "       'fatigue_activity', 'bloating_activity', 'abdominal_pain_activity',\n",
       "       'knee_pain_activity', 'brain_fog_activity', 'chronic_pain_activity',\n",
       "       'gas_activity', 'weakness_activity', 'constipation_activity',\n",
       "       'neck_pain_activity', 'diarrhea_activity', 'jaw_pain_activity',\n",
       "       'joint_pain_activity', 'dizziness_or_vertigo_activity',\n",
       "       'light_sensitivity_activity', 'palpitations_activity',\n",
       "       'stiffness_activity', 'sore_throat_activity',\n",
       "       'shortness_of_breath_activity', 'irritability_activity',\n",
       "       'nausea_activity', 'difficulty_concentrating_activity',\n",
       "       'chest_pain_activity', 'numbness_and_tingling_activity',\n",
       "       'acid_reflux_activity', 'swelling_activity', 'lightheadedness_activity',\n",
       "       'hand_pain_activity', 'muscle_ache_activity', 'tachycardia_activity',\n",
       "       'hip_pain_activity', 'muscle_spasm_activity', 'pelvic_pain_activity',\n",
       "       'vomiting_activity', 'foot_pain_activity', 'rash_activity',\n",
       "       'sweating_activity', 'arm_pain_activity', 'leg_pain_activity',\n",
       "       'nerve_pain_activity', 'menstrual_cramps_activity'],\n",
       "      dtype='object')"
      ]
     },
     "execution_count": 19,
     "metadata": {},
     "output_type": "execute_result"
    }
   ],
   "source": [
    "X_remainder_AcBinary.columns"
   ]
  },
  {
   "cell_type": "markdown",
   "metadata": {},
   "source": [
    "Re-testing the model on train and validation:"
   ]
  },
  {
   "cell_type": "code",
   "execution_count": 20,
   "metadata": {},
   "outputs": [
    {
     "data": {
      "text/plain": [
       "0.7166701151803573"
      ]
     },
     "execution_count": 20,
     "metadata": {},
     "output_type": "execute_result"
    }
   ],
   "source": [
    "import pickle \n",
    "\n",
    "LR_binary_final = LogisticRegression(C=1, solver='saga', penalty='l1')\n",
    "\n",
    "LR_binary_final.fit(X_remainder_AcBinary_scaledFin, y_remainder_AcBinary)\n",
    "\n",
    "pickle.dump(LR_binary_final, open('binary_finalA.pkl', 'wb'))\n",
    "\n",
    "LR_binary_final.score(X_remainder_AcBinary_scaledFin, y_remainder_AcBinary)"
   ]
  },
  {
   "cell_type": "code",
   "execution_count": 21,
   "metadata": {},
   "outputs": [
    {
     "data": {
      "text/plain": [
       "Index(['age', 'female', 'other', 'fibro_comorbidities',\n",
       "       'postural_orthostatic_tachycardia_syndrome_activity',\n",
       "       'ehlers-danlos_syndrome_activity', 'irritable_bowel_syndrome_activity',\n",
       "       'osteoarthritis_activity', 'depression_activity', 'asthma_activity',\n",
       "       'anxiety_activity', 'arthritis_activity', 'insomnia_activity',\n",
       "       'endometriosis_activity', 'gerd_activity', 'lupus_activity',\n",
       "       'generalized_anxiety_disorder_activity',\n",
       "       'post-traumatic_stress_disorder_activity',\n",
       "       'chronic_fatigue_syndrome_activity', 'rheumatoid_arthritis_activity',\n",
       "       'polycystic_ovary_syndrome_(pcos)_activity', 'stomach_pain_activity',\n",
       "       'migraine_activity', 'stomach_cramps_activity',\n",
       "       'subluxation_or_dislocation_activity', 'back_pain_activity',\n",
       "       'headache_activity', 'muscle_pain_activity', 'shoulder_pain_activity',\n",
       "       'fatigue_activity', 'bloating_activity', 'abdominal_pain_activity',\n",
       "       'knee_pain_activity', 'brain_fog_activity', 'chronic_pain_activity',\n",
       "       'gas_activity', 'weakness_activity', 'constipation_activity',\n",
       "       'neck_pain_activity', 'diarrhea_activity', 'jaw_pain_activity',\n",
       "       'joint_pain_activity', 'dizziness_or_vertigo_activity',\n",
       "       'light_sensitivity_activity', 'palpitations_activity',\n",
       "       'stiffness_activity', 'sore_throat_activity',\n",
       "       'shortness_of_breath_activity', 'irritability_activity',\n",
       "       'nausea_activity', 'difficulty_concentrating_activity',\n",
       "       'chest_pain_activity', 'numbness_and_tingling_activity',\n",
       "       'acid_reflux_activity', 'swelling_activity', 'lightheadedness_activity',\n",
       "       'hand_pain_activity', 'muscle_ache_activity', 'tachycardia_activity',\n",
       "       'hip_pain_activity', 'muscle_spasm_activity', 'pelvic_pain_activity',\n",
       "       'vomiting_activity', 'foot_pain_activity', 'rash_activity',\n",
       "       'sweating_activity', 'arm_pain_activity', 'leg_pain_activity',\n",
       "       'nerve_pain_activity', 'menstrual_cramps_activity'],\n",
       "      dtype='object')"
      ]
     },
     "execution_count": 21,
     "metadata": {},
     "output_type": "execute_result"
    }
   ],
   "source": [
    "\n",
    "\n",
    "#Dropping colinear variables\n",
    "\n",
    "X_CS_activity_binary2 = X_CS_activity_binary.drop(columns=['ids','conditions_total', 'symptoms_total', 'total_unique_dates_days', 'total_logs', 'total_log_rate',])\n",
    "\n",
    "\n",
    "\n",
    "X_CS_activity_binary2.columns"
   ]
  },
  {
   "cell_type": "code",
   "execution_count": 22,
   "metadata": {},
   "outputs": [
    {
     "data": {
      "text/plain": [
       "Index(['age', 'female', 'other', 'fibro_comorbidities',\n",
       "       'postural_orthostatic_tachycardia_syndrome', 'ehlers-danlos_syndrome',\n",
       "       'irritable_bowel_syndrome', 'osteoarthritis', 'depression', 'asthma',\n",
       "       'anxiety', 'arthritis', 'insomnia', 'endometriosis', 'gerd', 'lupus',\n",
       "       'generalized_anxiety_disorder', 'post-traumatic_stress_disorder',\n",
       "       'chronic_fatigue_syndrome', 'rheumatoid_arthritis',\n",
       "       'polycystic_ovary_syndrome_(pcos)', 'stomach_pain', 'migraine',\n",
       "       'stomach_cramps', 'subluxation_or_dislocation', 'back_pain', 'headache',\n",
       "       'muscle_pain', 'shoulder_pain', 'fatigue', 'bloating', 'abdominal_pain',\n",
       "       'knee_pain', 'brain_fog', 'chronic_pain', 'gas', 'weakness',\n",
       "       'constipation', 'neck_pain', 'diarrhea', 'jaw_pain', 'joint_pain',\n",
       "       'dizziness_or_vertigo', 'light_sensitivity', 'palpitations',\n",
       "       'stiffness', 'sore_throat', 'shortness_of_breath', 'irritability',\n",
       "       'nausea', 'difficulty_concentrating', 'chest_pain',\n",
       "       'numbness_and_tingling', 'acid_reflux', 'swelling', 'lightheadedness',\n",
       "       'hand_pain', 'muscle_ache', 'tachycardia', 'hip_pain', 'muscle_spasm',\n",
       "       'pelvic_pain', 'vomiting', 'foot_pain', 'rash', 'sweating', 'arm_pain',\n",
       "       'leg_pain', 'nerve_pain', 'menstrual_cramps'],\n",
       "      dtype='object')"
      ]
     },
     "execution_count": 22,
     "metadata": {},
     "output_type": "execute_result"
    }
   ],
   "source": [
    "\n",
    "\n",
    "#Dropping colinear variables\n",
    "\n",
    "X_CS_binary_binary2 = X_CS_binary_binary.drop(columns=['ids','conditions_total', 'symptoms_total', 'total_unique_dates_days', 'total_logs', 'total_log_rate',])\n",
    "\n",
    "\n",
    "\n",
    "X_CS_binary_binary2.columns"
   ]
  },
  {
   "cell_type": "code",
   "execution_count": 23,
   "metadata": {},
   "outputs": [],
   "source": [
    "# Creating the remainder and test sets all variables\n",
    "X_remainder_Binary, X_test_Binary, y_remainder_Binary, y_test_Binary = train_test_split(X_CS_binary_binary2, y_binary, test_size=0.3, random_state=42, stratify=y_binary)"
   ]
  },
  {
   "cell_type": "code",
   "execution_count": 24,
   "metadata": {},
   "outputs": [],
   "source": [
    "X_remainder_Binary.head(1).to_csv('binary_df.csv')"
   ]
  },
  {
   "cell_type": "code",
   "execution_count": 25,
   "metadata": {},
   "outputs": [],
   "source": [
    "# scaling remainder and test\n",
    "\n",
    "Binary_Scaler22 = StandardScaler()\n",
    "\n",
    "Binary_Scaler22.fit(X_remainder_Binary)\n",
    "\n",
    "X_remainder_Binary_scaledFin = Binary_Scaler22.transform(X_remainder_Binary)\n",
    "\n",
    "X_test_Binary_scaledFin = Binary_Scaler22.transform(X_test_Binary)"
   ]
  },
  {
   "cell_type": "code",
   "execution_count": 26,
   "metadata": {},
   "outputs": [
    {
     "data": {
      "text/plain": [
       "array([18, 19, 20, 21, 22, 23, 24, 25, 26, 27, 28, 29, 30, 31, 32, 33, 34,\n",
       "       35, 36, 37, 38, 39, 40, 41, 42, 43, 44, 45, 46, 47, 48, 49, 50, 51,\n",
       "       52, 53, 54, 55, 56, 57, 58, 59, 60, 61, 62, 63, 64, 65, 66, 67, 68,\n",
       "       69])"
      ]
     },
     "execution_count": 26,
     "metadata": {},
     "output_type": "execute_result"
    }
   ],
   "source": [
    "np.arange(18, 70, step=1)"
   ]
  },
  {
   "cell_type": "code",
   "execution_count": 27,
   "metadata": {},
   "outputs": [
    {
     "data": {
      "text/plain": [
       "Index(['age', 'female', 'other', 'fibro_comorbidities',\n",
       "       'postural_orthostatic_tachycardia_syndrome', 'ehlers-danlos_syndrome',\n",
       "       'irritable_bowel_syndrome', 'osteoarthritis', 'depression', 'asthma',\n",
       "       'anxiety', 'arthritis', 'insomnia', 'endometriosis', 'gerd', 'lupus',\n",
       "       'generalized_anxiety_disorder', 'post-traumatic_stress_disorder',\n",
       "       'chronic_fatigue_syndrome', 'rheumatoid_arthritis',\n",
       "       'polycystic_ovary_syndrome_(pcos)', 'stomach_pain', 'migraine',\n",
       "       'stomach_cramps', 'subluxation_or_dislocation', 'back_pain', 'headache',\n",
       "       'muscle_pain', 'shoulder_pain', 'fatigue', 'bloating', 'abdominal_pain',\n",
       "       'knee_pain', 'brain_fog', 'chronic_pain', 'gas', 'weakness',\n",
       "       'constipation', 'neck_pain', 'diarrhea', 'jaw_pain', 'joint_pain',\n",
       "       'dizziness_or_vertigo', 'light_sensitivity', 'palpitations',\n",
       "       'stiffness', 'sore_throat', 'shortness_of_breath', 'irritability',\n",
       "       'nausea', 'difficulty_concentrating', 'chest_pain',\n",
       "       'numbness_and_tingling', 'acid_reflux', 'swelling', 'lightheadedness',\n",
       "       'hand_pain', 'muscle_ache', 'tachycardia', 'hip_pain', 'muscle_spasm',\n",
       "       'pelvic_pain', 'vomiting', 'foot_pain', 'rash', 'sweating', 'arm_pain',\n",
       "       'leg_pain', 'nerve_pain', 'menstrual_cramps'],\n",
       "      dtype='object')"
      ]
     },
     "execution_count": 27,
     "metadata": {},
     "output_type": "execute_result"
    }
   ],
   "source": [
    "X_remainder_Binary.columns"
   ]
  },
  {
   "cell_type": "code",
   "execution_count": 28,
   "metadata": {},
   "outputs": [
    {
     "data": {
      "text/plain": [
       "['anxiety',\n",
       " 'arthritis',\n",
       " 'asthma',\n",
       " 'chronic fatigue syndrome',\n",
       " 'depression',\n",
       " 'ehlers-danlos syndrome',\n",
       " 'endometriosis',\n",
       " 'generalized anxiety disorder',\n",
       " 'gerd',\n",
       " 'insomnia',\n",
       " 'irritable bowel syndrome',\n",
       " 'lupus',\n",
       " 'osteoarthritis',\n",
       " 'polycystic ovary syndrome (pcos)',\n",
       " 'post-traumatic stress disorder',\n",
       " 'postural orthostatic tachycardia syndrome',\n",
       " 'rheumatoid arthritis']"
      ]
     },
     "execution_count": 28,
     "metadata": {},
     "output_type": "execute_result"
    }
   ],
   "source": [
    "Binary_Conditions = list(('postural_orthostatic_tachycardia_syndrome', 'ehlers-danlos_syndrome',\n",
    "       'irritable_bowel_syndrome', 'osteoarthritis', 'depression', 'asthma',\n",
    "       'anxiety', 'arthritis', 'insomnia', 'endometriosis', 'gerd', 'lupus',\n",
    "       'generalized_anxiety_disorder', 'post-traumatic_stress_disorder',\n",
    "       'chronic_fatigue_syndrome', 'rheumatoid_arthritis',\n",
    "       'polycystic_ovary_syndrome_(pcos)'))\n",
    "\n",
    "CLEAN = list()\n",
    "\n",
    "for cond in Binary_Conditions:\n",
    "    cond = cond.replace(\"_\", \" \")\n",
    "    CLEAN.append(cond)\n",
    "\n",
    "CLEAN.sort()\n",
    "\n",
    "CLEAN"
   ]
  },
  {
   "cell_type": "code",
   "execution_count": 29,
   "metadata": {},
   "outputs": [
    {
     "data": {
      "text/plain": [
       "['abdominal pain',\n",
       " 'acid reflux',\n",
       " 'arm pain',\n",
       " 'back pain',\n",
       " 'bloating',\n",
       " 'brain fog',\n",
       " 'chest pain',\n",
       " 'chronic pain',\n",
       " 'constipation',\n",
       " 'diarrhea',\n",
       " 'difficulty concentrating',\n",
       " 'dizziness or vertigo',\n",
       " 'fatigue',\n",
       " 'foot pain',\n",
       " 'gas',\n",
       " 'hand pain',\n",
       " 'headache',\n",
       " 'hip pain',\n",
       " 'irritability',\n",
       " 'jaw pain',\n",
       " 'joint pain',\n",
       " 'knee pain',\n",
       " 'leg pain',\n",
       " 'light sensitivity',\n",
       " 'lightheadedness',\n",
       " 'menstrual cramps',\n",
       " 'migraine',\n",
       " 'muscle ache',\n",
       " 'muscle pain',\n",
       " 'muscle spasm',\n",
       " 'nausea',\n",
       " 'neck pain',\n",
       " 'nerve pain',\n",
       " 'numbness and tingling',\n",
       " 'palpitations',\n",
       " 'pelvic pain',\n",
       " 'rash',\n",
       " 'shortness of breath',\n",
       " 'shoulder pain',\n",
       " 'sore throat',\n",
       " 'stiffness',\n",
       " 'stomach cramps',\n",
       " 'stomach pain',\n",
       " 'subluxation or dislocation',\n",
       " 'sweating',\n",
       " 'swelling',\n",
       " 'tachycardia',\n",
       " 'vomiting',\n",
       " 'weakness']"
      ]
     },
     "execution_count": 29,
     "metadata": {},
     "output_type": "execute_result"
    }
   ],
   "source": [
    "Binary_SYMPS = list(('stomach_pain', 'migraine',\n",
    "       'stomach_cramps', 'subluxation_or_dislocation', 'back_pain', 'headache',\n",
    "       'muscle_pain', 'shoulder_pain', 'fatigue', 'bloating', 'abdominal_pain',\n",
    "       'knee_pain', 'brain_fog', 'chronic_pain', 'gas', 'weakness',\n",
    "       'constipation', 'neck_pain', 'diarrhea', 'jaw_pain', 'joint_pain',\n",
    "       'dizziness_or_vertigo', 'light_sensitivity', 'palpitations',\n",
    "       'stiffness', 'sore_throat', 'shortness_of_breath', 'irritability',\n",
    "       'nausea', 'difficulty_concentrating', 'chest_pain',\n",
    "       'numbness_and_tingling', 'acid_reflux', 'swelling', 'lightheadedness',\n",
    "       'hand_pain', 'muscle_ache', 'tachycardia', 'hip_pain', 'muscle_spasm',\n",
    "       'pelvic_pain', 'vomiting', 'foot_pain', 'rash', 'sweating', 'arm_pain',\n",
    "       'leg_pain', 'nerve_pain', 'menstrual_cramps'))\n",
    "\n",
    "CLEAN2 = list()\n",
    "\n",
    "for cond in Binary_SYMPS:\n",
    "    cond = cond.replace(\"_\", \" \")\n",
    "    CLEAN2.append(cond)\n",
    "\n",
    "CLEAN2.sort()\n",
    "\n",
    "CLEAN2"
   ]
  },
  {
   "cell_type": "code",
   "execution_count": 30,
   "metadata": {},
   "outputs": [
    {
     "data": {
      "text/plain": [
       "Index(['age', 'female', 'other', 'fibro_comorbidities',\n",
       "       'postural_orthostatic_tachycardia_syndrome_activity',\n",
       "       'ehlers-danlos_syndrome_activity', 'irritable_bowel_syndrome_activity',\n",
       "       'osteoarthritis_activity', 'depression_activity', 'asthma_activity',\n",
       "       'anxiety_activity', 'arthritis_activity', 'insomnia_activity',\n",
       "       'endometriosis_activity', 'gerd_activity', 'lupus_activity',\n",
       "       'generalized_anxiety_disorder_activity',\n",
       "       'post-traumatic_stress_disorder_activity',\n",
       "       'chronic_fatigue_syndrome_activity', 'rheumatoid_arthritis_activity',\n",
       "       'polycystic_ovary_syndrome_(pcos)_activity', 'stomach_pain_activity',\n",
       "       'migraine_activity', 'stomach_cramps_activity',\n",
       "       'subluxation_or_dislocation_activity', 'back_pain_activity',\n",
       "       'headache_activity', 'muscle_pain_activity', 'shoulder_pain_activity',\n",
       "       'fatigue_activity', 'bloating_activity', 'abdominal_pain_activity',\n",
       "       'knee_pain_activity', 'brain_fog_activity', 'chronic_pain_activity',\n",
       "       'gas_activity', 'weakness_activity', 'constipation_activity',\n",
       "       'neck_pain_activity', 'diarrhea_activity', 'jaw_pain_activity',\n",
       "       'joint_pain_activity', 'dizziness_or_vertigo_activity',\n",
       "       'light_sensitivity_activity', 'palpitations_activity',\n",
       "       'stiffness_activity', 'sore_throat_activity',\n",
       "       'shortness_of_breath_activity', 'irritability_activity',\n",
       "       'nausea_activity', 'difficulty_concentrating_activity',\n",
       "       'chest_pain_activity', 'numbness_and_tingling_activity',\n",
       "       'acid_reflux_activity', 'swelling_activity', 'lightheadedness_activity',\n",
       "       'hand_pain_activity', 'muscle_ache_activity', 'tachycardia_activity',\n",
       "       'hip_pain_activity', 'muscle_spasm_activity', 'pelvic_pain_activity',\n",
       "       'vomiting_activity', 'foot_pain_activity', 'rash_activity',\n",
       "       'sweating_activity', 'arm_pain_activity', 'leg_pain_activity',\n",
       "       'nerve_pain_activity', 'menstrual_cramps_activity'],\n",
       "      dtype='object')"
      ]
     },
     "execution_count": 30,
     "metadata": {},
     "output_type": "execute_result"
    }
   ],
   "source": [
    "\n",
    "\n",
    "#Dropping colinear variables\n",
    "\n",
    "X_CS_activity_binary2 = X_CS_activity_binary.drop(columns=['ids','conditions_total', 'symptoms_total', 'total_unique_dates_days', 'total_logs', 'total_log_rate',])\n",
    "\n",
    "\n",
    "\n",
    "X_CS_activity_binary2.columns"
   ]
  },
  {
   "cell_type": "code",
   "execution_count": 31,
   "metadata": {},
   "outputs": [
    {
     "data": {
      "text/plain": [
       "Index(['age', 'female', 'other', 'fibro_comorbidities',\n",
       "       'postural_orthostatic_tachycardia_syndrome_activity',\n",
       "       'ehlers-danlos_syndrome_activity', 'irritable_bowel_syndrome_activity',\n",
       "       'osteoarthritis_activity', 'depression_activity', 'asthma_activity',\n",
       "       'anxiety_activity', 'arthritis_activity', 'insomnia_activity',\n",
       "       'endometriosis_activity', 'gerd_activity', 'lupus_activity',\n",
       "       'generalized_anxiety_disorder_activity',\n",
       "       'post-traumatic_stress_disorder_activity',\n",
       "       'chronic_fatigue_syndrome_activity', 'rheumatoid_arthritis_activity',\n",
       "       'polycystic_ovary_syndrome_(pcos)_activity', 'stomach_pain_activity',\n",
       "       'migraine_activity', 'stomach_cramps_activity',\n",
       "       'subluxation_or_dislocation_activity', 'back_pain_activity',\n",
       "       'headache_activity', 'muscle_pain_activity', 'shoulder_pain_activity',\n",
       "       'fatigue_activity', 'bloating_activity', 'abdominal_pain_activity',\n",
       "       'knee_pain_activity', 'brain_fog_activity', 'chronic_pain_activity',\n",
       "       'gas_activity', 'weakness_activity', 'constipation_activity',\n",
       "       'neck_pain_activity', 'diarrhea_activity', 'jaw_pain_activity',\n",
       "       'joint_pain_activity', 'dizziness_or_vertigo_activity',\n",
       "       'light_sensitivity_activity', 'palpitations_activity',\n",
       "       'stiffness_activity', 'sore_throat_activity',\n",
       "       'shortness_of_breath_activity', 'irritability_activity',\n",
       "       'nausea_activity', 'difficulty_concentrating_activity',\n",
       "       'chest_pain_activity', 'numbness_and_tingling_activity',\n",
       "       'acid_reflux_activity', 'swelling_activity', 'lightheadedness_activity',\n",
       "       'hand_pain_activity', 'muscle_ache_activity', 'tachycardia_activity',\n",
       "       'hip_pain_activity', 'muscle_spasm_activity', 'pelvic_pain_activity',\n",
       "       'vomiting_activity', 'foot_pain_activity', 'rash_activity',\n",
       "       'sweating_activity', 'arm_pain_activity', 'leg_pain_activity',\n",
       "       'nerve_pain_activity', 'menstrual_cramps_activity'],\n",
       "      dtype='object')"
      ]
     },
     "execution_count": 31,
     "metadata": {},
     "output_type": "execute_result"
    }
   ],
   "source": [
    "\n",
    "\n",
    "#Dropping colinear variables\n",
    "\n",
    "X_CS_activity_binary2 = X_CS_activity_binary.drop(columns=['ids','conditions_total', 'symptoms_total', 'total_unique_dates_days', 'total_logs', 'total_log_rate',])\n",
    "\n",
    "\n",
    "\n",
    "X_CS_activity_binary2.columns"
   ]
  },
  {
   "cell_type": "code",
   "execution_count": 32,
   "metadata": {},
   "outputs": [],
   "source": [
    "# Creating the remainder and test sets all variables\n",
    "X_remainder_AcBinary, X_test_AcBinary, y_remainder_AcBinary, y_test_AcBinary = train_test_split(X_CS_activity_binary2, y_binary, test_size=0.3, random_state=42, stratify=y_binary)"
   ]
  },
  {
   "cell_type": "code",
   "execution_count": 57,
   "metadata": {},
   "outputs": [],
   "source": [
    "# scaling remainder and test\n",
    "\n",
    "Binary_Scaler2 = StandardScaler()\n",
    "\n",
    "Binary_Scaler2.fit(X_remainder_AcBinary)\n",
    "\n",
    "X_remainder_AcBinary_scaledFin = Binary_Scaler2.transform(X_remainder_AcBinary)\n",
    "\n",
    "X_test_AcBinary_scaledFin = Binary_Scaler2.transform(X_test_AcBinary)"
   ]
  },
  {
   "cell_type": "code",
   "execution_count": 61,
   "metadata": {},
   "outputs": [
    {
     "data": {
      "text/plain": [
       "array([[-0.3244509 ,  0.32159704, -0.20449782, ..., -0.18589493,\n",
       "        -0.17245698, -0.11913086],\n",
       "       [ 1.24101121,  0.32159704, -0.20449782, ..., -0.18589493,\n",
       "        -0.17245698, -0.11913086],\n",
       "       [ 0.06691462,  0.32159704, -0.20449782, ...,  3.84595347,\n",
       "        -0.17245698, -0.11913086],\n",
       "       ...,\n",
       "       [ 3.09999747, -3.10948133, -0.20449782, ..., -0.18589493,\n",
       "        -0.17245698, -0.11913086],\n",
       "       [-0.91149919, -3.10948133,  4.89002772, ..., -0.18589493,\n",
       "        -0.17245698, -0.11913086],\n",
       "       [-1.10718196,  0.32159704, -0.20449782, ..., -0.18589493,\n",
       "        -0.17245698, -0.11913086]])"
      ]
     },
     "execution_count": 61,
     "metadata": {},
     "output_type": "execute_result"
    }
   ],
   "source": [
    "X_remainder_AcBinary_scaledFin"
   ]
  },
  {
   "cell_type": "code",
   "execution_count": 34,
   "metadata": {},
   "outputs": [
    {
     "data": {
      "text/plain": [
       "array([18, 19, 20, 21, 22, 23, 24, 25, 26, 27, 28, 29, 30, 31, 32, 33, 34,\n",
       "       35, 36, 37, 38, 39, 40, 41, 42, 43, 44, 45, 46, 47, 48, 49, 50, 51,\n",
       "       52, 53, 54, 55, 56, 57, 58, 59, 60, 61, 62, 63, 64, 65, 66, 67, 68,\n",
       "       69])"
      ]
     },
     "execution_count": 34,
     "metadata": {},
     "output_type": "execute_result"
    }
   ],
   "source": [
    "np.arange(18, 70, step=1)"
   ]
  },
  {
   "cell_type": "code",
   "execution_count": 35,
   "metadata": {},
   "outputs": [
    {
     "data": {
      "text/plain": [
       "Index(['age', 'female', 'other', 'fibro_comorbidities',\n",
       "       'postural_orthostatic_tachycardia_syndrome_activity',\n",
       "       'ehlers-danlos_syndrome_activity', 'irritable_bowel_syndrome_activity',\n",
       "       'osteoarthritis_activity', 'depression_activity', 'asthma_activity',\n",
       "       'anxiety_activity', 'arthritis_activity', 'insomnia_activity',\n",
       "       'endometriosis_activity', 'gerd_activity', 'lupus_activity',\n",
       "       'generalized_anxiety_disorder_activity',\n",
       "       'post-traumatic_stress_disorder_activity',\n",
       "       'chronic_fatigue_syndrome_activity', 'rheumatoid_arthritis_activity',\n",
       "       'polycystic_ovary_syndrome_(pcos)_activity', 'stomach_pain_activity',\n",
       "       'migraine_activity', 'stomach_cramps_activity',\n",
       "       'subluxation_or_dislocation_activity', 'back_pain_activity',\n",
       "       'headache_activity', 'muscle_pain_activity', 'shoulder_pain_activity',\n",
       "       'fatigue_activity', 'bloating_activity', 'abdominal_pain_activity',\n",
       "       'knee_pain_activity', 'brain_fog_activity', 'chronic_pain_activity',\n",
       "       'gas_activity', 'weakness_activity', 'constipation_activity',\n",
       "       'neck_pain_activity', 'diarrhea_activity', 'jaw_pain_activity',\n",
       "       'joint_pain_activity', 'dizziness_or_vertigo_activity',\n",
       "       'light_sensitivity_activity', 'palpitations_activity',\n",
       "       'stiffness_activity', 'sore_throat_activity',\n",
       "       'shortness_of_breath_activity', 'irritability_activity',\n",
       "       'nausea_activity', 'difficulty_concentrating_activity',\n",
       "       'chest_pain_activity', 'numbness_and_tingling_activity',\n",
       "       'acid_reflux_activity', 'swelling_activity', 'lightheadedness_activity',\n",
       "       'hand_pain_activity', 'muscle_ache_activity', 'tachycardia_activity',\n",
       "       'hip_pain_activity', 'muscle_spasm_activity', 'pelvic_pain_activity',\n",
       "       'vomiting_activity', 'foot_pain_activity', 'rash_activity',\n",
       "       'sweating_activity', 'arm_pain_activity', 'leg_pain_activity',\n",
       "       'nerve_pain_activity', 'menstrual_cramps_activity'],\n",
       "      dtype='object')"
      ]
     },
     "execution_count": 35,
     "metadata": {},
     "output_type": "execute_result"
    }
   ],
   "source": [
    "X_remainder_AcBinary.columns"
   ]
  },
  {
   "cell_type": "markdown",
   "metadata": {},
   "source": [
    "Re-testing the model on train and validation:"
   ]
  },
  {
   "cell_type": "code",
   "execution_count": 36,
   "metadata": {},
   "outputs": [
    {
     "data": {
      "text/plain": [
       "0.7166701151803573"
      ]
     },
     "execution_count": 36,
     "metadata": {},
     "output_type": "execute_result"
    }
   ],
   "source": [
    "import pickle \n",
    "\n",
    "LR_binary_final = LogisticRegression(C=1, solver='saga', penalty='l1')\n",
    "\n",
    "LR_binary_final.fit(X_remainder_AcBinary_scaledFin, y_remainder_AcBinary)\n",
    "\n",
    "pickle.dump(LR_binary_final, open('binary_finalA.pkl', 'wb'))\n",
    "\n",
    "LR_binary_final.score(X_remainder_AcBinary_scaledFin, y_remainder_AcBinary)"
   ]
  },
  {
   "cell_type": "markdown",
   "metadata": {},
   "source": [
    "Re-testing the model on train and validation:"
   ]
  },
  {
   "cell_type": "code",
   "execution_count": 37,
   "metadata": {},
   "outputs": [
    {
     "data": {
      "text/plain": [
       "0.7175667287399131"
      ]
     },
     "execution_count": 37,
     "metadata": {},
     "output_type": "execute_result"
    }
   ],
   "source": [
    "import pickle \n",
    "\n",
    "LR_binary_final2 = LogisticRegression(C=1, solver='saga', penalty='l1')\n",
    "\n",
    "LR_binary_final2.fit(X_remainder_Binary_scaledFin, y_remainder_Binary)\n",
    "\n",
    "pickle.dump(LR_binary_final2, open('binary_final.pkl', 'wb'))\n",
    "\n",
    "LR_binary_final.score(X_remainder_Binary_scaledFin, y_remainder_Binary)"
   ]
  },
  {
   "cell_type": "code",
   "execution_count": 62,
   "metadata": {},
   "outputs": [
    {
     "data": {
      "text/plain": [
       "array([[-0.3244509 ,  0.32159704, -0.20449782, ..., -0.21559549,\n",
       "        -0.20302913, -0.19402069],\n",
       "       [ 1.24101121,  0.32159704, -0.20449782, ..., -0.21559549,\n",
       "        -0.20302913, -0.19402069],\n",
       "       [ 0.06691462,  0.32159704, -0.20449782, ...,  4.63831598,\n",
       "        -0.20302913, -0.19402069],\n",
       "       ...,\n",
       "       [ 3.09999747, -3.10948133, -0.20449782, ..., -0.21559549,\n",
       "        -0.20302913, -0.19402069],\n",
       "       [-0.91149919, -3.10948133,  4.89002772, ..., -0.21559549,\n",
       "        -0.20302913, -0.19402069],\n",
       "       [-1.10718196,  0.32159704, -0.20449782, ..., -0.21559549,\n",
       "        -0.20302913, -0.19402069]])"
      ]
     },
     "execution_count": 62,
     "metadata": {},
     "output_type": "execute_result"
    }
   ],
   "source": [
    "X_remainder_Binary_scaledFin"
   ]
  },
  {
   "cell_type": "code",
   "execution_count": null,
   "metadata": {},
   "outputs": [],
   "source": []
  },
  {
   "cell_type": "code",
   "execution_count": null,
   "metadata": {},
   "outputs": [],
   "source": []
  },
  {
   "cell_type": "code",
   "execution_count": null,
   "metadata": {},
   "outputs": [],
   "source": []
  },
  {
   "cell_type": "code",
   "execution_count": null,
   "metadata": {},
   "outputs": [],
   "source": []
  },
  {
   "cell_type": "code",
   "execution_count": null,
   "metadata": {},
   "outputs": [],
   "source": []
  },
  {
   "cell_type": "code",
   "execution_count": 38,
   "metadata": {},
   "outputs": [
    {
     "data": {
      "text/html": [
       "<div>\n",
       "<style scoped>\n",
       "    .dataframe tbody tr th:only-of-type {\n",
       "        vertical-align: middle;\n",
       "    }\n",
       "\n",
       "    .dataframe tbody tr th {\n",
       "        vertical-align: top;\n",
       "    }\n",
       "\n",
       "    .dataframe thead th {\n",
       "        text-align: right;\n",
       "    }\n",
       "</style>\n",
       "<table border=\"1\" class=\"dataframe\">\n",
       "  <thead>\n",
       "    <tr style=\"text-align: right;\">\n",
       "      <th></th>\n",
       "      <th>ids</th>\n",
       "      <th>age</th>\n",
       "      <th>gender</th>\n",
       "      <th>country</th>\n",
       "      <th>target</th>\n",
       "      <th>total_logs</th>\n",
       "      <th>total_unique_dates_days</th>\n",
       "      <th>total_log_rate</th>\n",
       "      <th>conditions_total</th>\n",
       "      <th>fibro_comorbidities</th>\n",
       "      <th>...</th>\n",
       "      <th>mouth_ulcers</th>\n",
       "      <th>mouth_ulcers_total_logs</th>\n",
       "      <th>mouth_ulcers_activity</th>\n",
       "      <th>mouth_ulcers_unique_dates_days</th>\n",
       "      <th>mouth_ulcers_log_rate</th>\n",
       "      <th>blood_pooling</th>\n",
       "      <th>blood_pooling_total_logs</th>\n",
       "      <th>blood_pooling_activity</th>\n",
       "      <th>blood_pooling_unique_dates_days</th>\n",
       "      <th>blood_pooling_log_rate</th>\n",
       "    </tr>\n",
       "  </thead>\n",
       "  <tbody>\n",
       "    <tr>\n",
       "      <th>0</th>\n",
       "      <td>16</td>\n",
       "      <td>42</td>\n",
       "      <td>male</td>\n",
       "      <td>CL</td>\n",
       "      <td>3</td>\n",
       "      <td>5</td>\n",
       "      <td>1</td>\n",
       "      <td>5.0</td>\n",
       "      <td>2</td>\n",
       "      <td>0</td>\n",
       "      <td>...</td>\n",
       "      <td>0</td>\n",
       "      <td>0</td>\n",
       "      <td>0</td>\n",
       "      <td>0</td>\n",
       "      <td>0.0</td>\n",
       "      <td>0</td>\n",
       "      <td>0</td>\n",
       "      <td>0</td>\n",
       "      <td>0</td>\n",
       "      <td>0.0</td>\n",
       "    </tr>\n",
       "    <tr>\n",
       "      <th>1</th>\n",
       "      <td>37</td>\n",
       "      <td>46</td>\n",
       "      <td>female</td>\n",
       "      <td>US</td>\n",
       "      <td>3</td>\n",
       "      <td>13</td>\n",
       "      <td>5</td>\n",
       "      <td>2.6</td>\n",
       "      <td>1</td>\n",
       "      <td>1</td>\n",
       "      <td>...</td>\n",
       "      <td>0</td>\n",
       "      <td>0</td>\n",
       "      <td>0</td>\n",
       "      <td>0</td>\n",
       "      <td>0.0</td>\n",
       "      <td>0</td>\n",
       "      <td>0</td>\n",
       "      <td>0</td>\n",
       "      <td>0</td>\n",
       "      <td>0.0</td>\n",
       "    </tr>\n",
       "    <tr>\n",
       "      <th>2</th>\n",
       "      <td>137</td>\n",
       "      <td>25</td>\n",
       "      <td>female</td>\n",
       "      <td>SE</td>\n",
       "      <td>3</td>\n",
       "      <td>80</td>\n",
       "      <td>8</td>\n",
       "      <td>10.0</td>\n",
       "      <td>4</td>\n",
       "      <td>0</td>\n",
       "      <td>...</td>\n",
       "      <td>0</td>\n",
       "      <td>0</td>\n",
       "      <td>0</td>\n",
       "      <td>0</td>\n",
       "      <td>0.0</td>\n",
       "      <td>0</td>\n",
       "      <td>0</td>\n",
       "      <td>0</td>\n",
       "      <td>0</td>\n",
       "      <td>0.0</td>\n",
       "    </tr>\n",
       "    <tr>\n",
       "      <th>3</th>\n",
       "      <td>140</td>\n",
       "      <td>20</td>\n",
       "      <td>female</td>\n",
       "      <td>US</td>\n",
       "      <td>3</td>\n",
       "      <td>12</td>\n",
       "      <td>1</td>\n",
       "      <td>12.0</td>\n",
       "      <td>1</td>\n",
       "      <td>0</td>\n",
       "      <td>...</td>\n",
       "      <td>0</td>\n",
       "      <td>0</td>\n",
       "      <td>0</td>\n",
       "      <td>0</td>\n",
       "      <td>0.0</td>\n",
       "      <td>0</td>\n",
       "      <td>0</td>\n",
       "      <td>0</td>\n",
       "      <td>0</td>\n",
       "      <td>0.0</td>\n",
       "    </tr>\n",
       "    <tr>\n",
       "      <th>4</th>\n",
       "      <td>322</td>\n",
       "      <td>31</td>\n",
       "      <td>female</td>\n",
       "      <td>US</td>\n",
       "      <td>3</td>\n",
       "      <td>42</td>\n",
       "      <td>6</td>\n",
       "      <td>7.0</td>\n",
       "      <td>1</td>\n",
       "      <td>0</td>\n",
       "      <td>...</td>\n",
       "      <td>0</td>\n",
       "      <td>0</td>\n",
       "      <td>0</td>\n",
       "      <td>0</td>\n",
       "      <td>0.0</td>\n",
       "      <td>0</td>\n",
       "      <td>0</td>\n",
       "      <td>0</td>\n",
       "      <td>0</td>\n",
       "      <td>0.0</td>\n",
       "    </tr>\n",
       "  </tbody>\n",
       "</table>\n",
       "<p>5 rows × 456 columns</p>\n",
       "</div>"
      ],
      "text/plain": [
       "   ids  age  gender country  target  total_logs  total_unique_dates_days  \\\n",
       "0   16   42    male      CL       3           5                        1   \n",
       "1   37   46  female      US       3          13                        5   \n",
       "2  137   25  female      SE       3          80                        8   \n",
       "3  140   20  female      US       3          12                        1   \n",
       "4  322   31  female      US       3          42                        6   \n",
       "\n",
       "   total_log_rate  conditions_total  fibro_comorbidities  ...  mouth_ulcers  \\\n",
       "0             5.0                 2                    0  ...             0   \n",
       "1             2.6                 1                    1  ...             0   \n",
       "2            10.0                 4                    0  ...             0   \n",
       "3            12.0                 1                    0  ...             0   \n",
       "4             7.0                 1                    0  ...             0   \n",
       "\n",
       "   mouth_ulcers_total_logs  mouth_ulcers_activity  \\\n",
       "0                        0                      0   \n",
       "1                        0                      0   \n",
       "2                        0                      0   \n",
       "3                        0                      0   \n",
       "4                        0                      0   \n",
       "\n",
       "   mouth_ulcers_unique_dates_days  mouth_ulcers_log_rate  blood_pooling  \\\n",
       "0                               0                    0.0              0   \n",
       "1                               0                    0.0              0   \n",
       "2                               0                    0.0              0   \n",
       "3                               0                    0.0              0   \n",
       "4                               0                    0.0              0   \n",
       "\n",
       "   blood_pooling_total_logs  blood_pooling_activity  \\\n",
       "0                         0                       0   \n",
       "1                         0                       0   \n",
       "2                         0                       0   \n",
       "3                         0                       0   \n",
       "4                         0                       0   \n",
       "\n",
       "   blood_pooling_unique_dates_days  blood_pooling_log_rate  \n",
       "0                                0                     0.0  \n",
       "1                                0                     0.0  \n",
       "2                                0                     0.0  \n",
       "3                                0                     0.0  \n",
       "4                                0                     0.0  \n",
       "\n",
       "[5 rows x 456 columns]"
      ]
     },
     "execution_count": 38,
     "metadata": {},
     "output_type": "execute_result"
    }
   ],
   "source": [
    "df_multi = pd.read_csv('data/chronic_agg_multiclass.csv', index_col = 'Unnamed: 0')\n",
    "\n",
    "df_multi.head(5)"
   ]
  },
  {
   "cell_type": "code",
   "execution_count": 39,
   "metadata": {},
   "outputs": [],
   "source": [
    "# Instantiate the OneHotEncoder\n",
    "oheM = OneHotEncoder()\n",
    "gendersM = pd.DataFrame(df_multi[\"gender\"])\n",
    "\n",
    "# Fit the OneHotEncoder to the subcategory column and transform\n",
    "# It expects a 2D array, so we first convert the column into a DataFrame\n",
    "gen_encodedM = oheM.fit_transform(gendersM)\n",
    "gen_encodedM\n",
    "dense_gen_encodedM = gen_encodedM.toarray()"
   ]
  },
  {
   "cell_type": "code",
   "execution_count": 40,
   "metadata": {},
   "outputs": [
    {
     "data": {
      "text/plain": [
       "[array(['female', 'male', 'other'], dtype=object)]"
      ]
     },
     "execution_count": 40,
     "metadata": {},
     "output_type": "execute_result"
    }
   ],
   "source": [
    "oheM.categories_ # looking at the categories in the OHE"
   ]
  },
  {
   "cell_type": "code",
   "execution_count": 41,
   "metadata": {},
   "outputs": [
    {
     "data": {
      "text/html": [
       "<div>\n",
       "<style scoped>\n",
       "    .dataframe tbody tr th:only-of-type {\n",
       "        vertical-align: middle;\n",
       "    }\n",
       "\n",
       "    .dataframe tbody tr th {\n",
       "        vertical-align: top;\n",
       "    }\n",
       "\n",
       "    .dataframe thead tr th {\n",
       "        text-align: left;\n",
       "    }\n",
       "</style>\n",
       "<table border=\"1\" class=\"dataframe\">\n",
       "  <thead>\n",
       "    <tr>\n",
       "      <th></th>\n",
       "      <th>female</th>\n",
       "      <th>male</th>\n",
       "      <th>other</th>\n",
       "    </tr>\n",
       "  </thead>\n",
       "  <tbody>\n",
       "    <tr>\n",
       "      <th>0</th>\n",
       "      <td>0</td>\n",
       "      <td>1</td>\n",
       "      <td>0</td>\n",
       "    </tr>\n",
       "    <tr>\n",
       "      <th>1</th>\n",
       "      <td>1</td>\n",
       "      <td>0</td>\n",
       "      <td>0</td>\n",
       "    </tr>\n",
       "    <tr>\n",
       "      <th>2</th>\n",
       "      <td>1</td>\n",
       "      <td>0</td>\n",
       "      <td>0</td>\n",
       "    </tr>\n",
       "    <tr>\n",
       "      <th>3</th>\n",
       "      <td>1</td>\n",
       "      <td>0</td>\n",
       "      <td>0</td>\n",
       "    </tr>\n",
       "    <tr>\n",
       "      <th>4</th>\n",
       "      <td>1</td>\n",
       "      <td>0</td>\n",
       "      <td>0</td>\n",
       "    </tr>\n",
       "    <tr>\n",
       "      <th>...</th>\n",
       "      <td>...</td>\n",
       "      <td>...</td>\n",
       "      <td>...</td>\n",
       "    </tr>\n",
       "    <tr>\n",
       "      <th>5102</th>\n",
       "      <td>1</td>\n",
       "      <td>0</td>\n",
       "      <td>0</td>\n",
       "    </tr>\n",
       "    <tr>\n",
       "      <th>5103</th>\n",
       "      <td>1</td>\n",
       "      <td>0</td>\n",
       "      <td>0</td>\n",
       "    </tr>\n",
       "    <tr>\n",
       "      <th>5104</th>\n",
       "      <td>1</td>\n",
       "      <td>0</td>\n",
       "      <td>0</td>\n",
       "    </tr>\n",
       "    <tr>\n",
       "      <th>5105</th>\n",
       "      <td>1</td>\n",
       "      <td>0</td>\n",
       "      <td>0</td>\n",
       "    </tr>\n",
       "    <tr>\n",
       "      <th>5106</th>\n",
       "      <td>1</td>\n",
       "      <td>0</td>\n",
       "      <td>0</td>\n",
       "    </tr>\n",
       "  </tbody>\n",
       "</table>\n",
       "<p>5107 rows × 3 columns</p>\n",
       "</div>"
      ],
      "text/plain": [
       "     female male other\n",
       "0         0    1     0\n",
       "1         1    0     0\n",
       "2         1    0     0\n",
       "3         1    0     0\n",
       "4         1    0     0\n",
       "...     ...  ...   ...\n",
       "5102      1    0     0\n",
       "5103      1    0     0\n",
       "5104      1    0     0\n",
       "5105      1    0     0\n",
       "5106      1    0     0\n",
       "\n",
       "[5107 rows x 3 columns]"
      ]
     },
     "execution_count": 41,
     "metadata": {},
     "output_type": "execute_result"
    }
   ],
   "source": [
    "# Check the result as a dataframe\n",
    "\n",
    "gen_checkM = pd.DataFrame(dense_gen_encodedM, columns=oheM.categories_, dtype=int)\n",
    "\n",
    "gen_checkM"
   ]
  },
  {
   "cell_type": "code",
   "execution_count": 42,
   "metadata": {},
   "outputs": [
    {
     "data": {
      "text/plain": [
       "Index(['female', 'male', 'other'], dtype='object')"
      ]
     },
     "execution_count": 42,
     "metadata": {},
     "output_type": "execute_result"
    }
   ],
   "source": [
    "gen_checkM.columns = ['female', 'male', 'other'] # rename the columns\n",
    "\n",
    "gen_checkM.columns # checking the work"
   ]
  },
  {
   "cell_type": "code",
   "execution_count": 43,
   "metadata": {},
   "outputs": [],
   "source": [
    "# Reset index \n",
    "\n",
    "gen_checkM.index = df_multi.index"
   ]
  },
  {
   "cell_type": "code",
   "execution_count": 44,
   "metadata": {},
   "outputs": [
    {
     "data": {
      "text/html": [
       "<div>\n",
       "<style scoped>\n",
       "    .dataframe tbody tr th:only-of-type {\n",
       "        vertical-align: middle;\n",
       "    }\n",
       "\n",
       "    .dataframe tbody tr th {\n",
       "        vertical-align: top;\n",
       "    }\n",
       "\n",
       "    .dataframe thead th {\n",
       "        text-align: right;\n",
       "    }\n",
       "</style>\n",
       "<table border=\"1\" class=\"dataframe\">\n",
       "  <thead>\n",
       "    <tr style=\"text-align: right;\">\n",
       "      <th></th>\n",
       "      <th>ids</th>\n",
       "      <th>age</th>\n",
       "      <th>gender</th>\n",
       "      <th>country</th>\n",
       "      <th>target</th>\n",
       "      <th>total_logs</th>\n",
       "      <th>total_unique_dates_days</th>\n",
       "      <th>total_log_rate</th>\n",
       "      <th>conditions_total</th>\n",
       "      <th>fibro_comorbidities</th>\n",
       "      <th>...</th>\n",
       "      <th>mouth_ulcers_unique_dates_days</th>\n",
       "      <th>mouth_ulcers_log_rate</th>\n",
       "      <th>blood_pooling</th>\n",
       "      <th>blood_pooling_total_logs</th>\n",
       "      <th>blood_pooling_activity</th>\n",
       "      <th>blood_pooling_unique_dates_days</th>\n",
       "      <th>blood_pooling_log_rate</th>\n",
       "      <th>female</th>\n",
       "      <th>male</th>\n",
       "      <th>other</th>\n",
       "    </tr>\n",
       "  </thead>\n",
       "  <tbody>\n",
       "    <tr>\n",
       "      <th>0</th>\n",
       "      <td>16</td>\n",
       "      <td>42</td>\n",
       "      <td>male</td>\n",
       "      <td>CL</td>\n",
       "      <td>3</td>\n",
       "      <td>5</td>\n",
       "      <td>1</td>\n",
       "      <td>5.0</td>\n",
       "      <td>2</td>\n",
       "      <td>0</td>\n",
       "      <td>...</td>\n",
       "      <td>0</td>\n",
       "      <td>0.0</td>\n",
       "      <td>0</td>\n",
       "      <td>0</td>\n",
       "      <td>0</td>\n",
       "      <td>0</td>\n",
       "      <td>0.0</td>\n",
       "      <td>0</td>\n",
       "      <td>1</td>\n",
       "      <td>0</td>\n",
       "    </tr>\n",
       "    <tr>\n",
       "      <th>1</th>\n",
       "      <td>37</td>\n",
       "      <td>46</td>\n",
       "      <td>female</td>\n",
       "      <td>US</td>\n",
       "      <td>3</td>\n",
       "      <td>13</td>\n",
       "      <td>5</td>\n",
       "      <td>2.6</td>\n",
       "      <td>1</td>\n",
       "      <td>1</td>\n",
       "      <td>...</td>\n",
       "      <td>0</td>\n",
       "      <td>0.0</td>\n",
       "      <td>0</td>\n",
       "      <td>0</td>\n",
       "      <td>0</td>\n",
       "      <td>0</td>\n",
       "      <td>0.0</td>\n",
       "      <td>1</td>\n",
       "      <td>0</td>\n",
       "      <td>0</td>\n",
       "    </tr>\n",
       "  </tbody>\n",
       "</table>\n",
       "<p>2 rows × 459 columns</p>\n",
       "</div>"
      ],
      "text/plain": [
       "   ids  age  gender country  target  total_logs  total_unique_dates_days  \\\n",
       "0   16   42    male      CL       3           5                        1   \n",
       "1   37   46  female      US       3          13                        5   \n",
       "\n",
       "   total_log_rate  conditions_total  fibro_comorbidities  ...  \\\n",
       "0             5.0                 2                    0  ...   \n",
       "1             2.6                 1                    1  ...   \n",
       "\n",
       "   mouth_ulcers_unique_dates_days  mouth_ulcers_log_rate  blood_pooling  \\\n",
       "0                               0                    0.0              0   \n",
       "1                               0                    0.0              0   \n",
       "\n",
       "   blood_pooling_total_logs  blood_pooling_activity  \\\n",
       "0                         0                       0   \n",
       "1                         0                       0   \n",
       "\n",
       "   blood_pooling_unique_dates_days  blood_pooling_log_rate  female  male  \\\n",
       "0                                0                     0.0       0     1   \n",
       "1                                0                     0.0       1     0   \n",
       "\n",
       "   other  \n",
       "0      0  \n",
       "1      0  \n",
       "\n",
       "[2 rows x 459 columns]"
      ]
     },
     "execution_count": 44,
     "metadata": {},
     "output_type": "execute_result"
    }
   ],
   "source": [
    "# Concatenating with the original dataframe\n",
    "\n",
    "df_multi2 = pd.concat([df_multi,gen_checkM], axis=1)\n",
    "\n",
    "df_multi2.head(2)"
   ]
  },
  {
   "cell_type": "code",
   "execution_count": 45,
   "metadata": {},
   "outputs": [
    {
     "name": "stdout",
     "output_type": "stream",
     "text": [
      "Total Condition / Symptom Binary length 0\n",
      "Total logs length: 0\n",
      "Median activity length: 0\n",
      "Log rate length: 0\n",
      "Unique dates length: 0\n",
      "Total Condition / Symptom Binary length 99\n",
      "Total logs length: 99\n",
      "Median activity length: 99\n",
      "Log rate length: 99\n",
      "Unique dates length: 99\n"
     ]
    }
   ],
   "source": [
    "# Creating the data variable splits\n",
    "\n",
    "y_multi, X_all_multi, X_basic_multi, X_CS_binary_multi, X_CS_total_logs_multi, X_CS_activity_multi, X_CS_log_rate_multi, X_CS_unique_dates_multi = variable_splitter(df_multi2)"
   ]
  },
  {
   "cell_type": "code",
   "execution_count": 46,
   "metadata": {},
   "outputs": [
    {
     "data": {
      "text/plain": [
       "Index(['ids', 'age', 'female', 'other', 'total_logs',\n",
       "       'total_unique_dates_days', 'total_log_rate', 'conditions_total',\n",
       "       'symptoms_total', 'fibro_comorbidities', 'hypothyroidism', 'insomnia',\n",
       "       'depression', 'ehlers-danlos_syndrome', 'gerd', 'psoriasis',\n",
       "       'irritable_bowel_syndrome', 'endometriosis',\n",
       "       'post-traumatic_stress_disorder', 'fibromyalgia',\n",
       "       'chronic_fatigue_syndrome', 'osteoarthritis',\n",
       "       'generalized_anxiety_disorder', 'sjogren's_syndrome', 'arthritis',\n",
       "       'anxiety', 'asthma', 'polycystic_ovary_syndrome_(pcos)', 'allergies',\n",
       "       'raynaud's_disease', 'gastroparesis', 'mast_cell_activation_syndrome',\n",
       "       'myalgic_encephalomyelitis', 'dysautonomia', 'headache', 'fatigue',\n",
       "       'stomach_pain', 'chronic_pain', 'numbness_and_tingling',\n",
       "       'dizziness_or_vertigo', 'joint_pain', 'hand_pain', 'foot_pain',\n",
       "       'inflammation', 'syncope', 'migraine', 'vomiting', 'stomach_cramps',\n",
       "       'nausea', 'back_pain', 'brain_fog', 'swelling', 'stiffness',\n",
       "       'constipation', 'bloating', 'lightheadedness', 'elbow_pain', 'hip_pain',\n",
       "       'rash', 'neck_pain', 'sacroiliac_joint_pain', 'shortness_of_breath',\n",
       "       'weakness', 'fever', 'wrist_pain', 'jaw_pain', 'knee_pain',\n",
       "       'acid_reflux', 'dry_eye', 'tachycardia', 'muscle_spasm', 'nerve_pain',\n",
       "       'muscle_pain', 'sore_throat', 'abdominal_pain', 'shoulder_pain',\n",
       "       'diarrhea', 'irritability', 'leg_pain', 'difficulty_concentrating',\n",
       "       'palpitations', 'light_sensitivity', 'menstrual_cramps', 'chest_pain',\n",
       "       'itchy_skin', 'heat_intolerance', 'dry_mouth', 'blurred_vision',\n",
       "       'mouth_sores', 'dry_eyes', 'sweating', 'faint', 'hives',\n",
       "       'joint_cracking', 'hair_loss', 'low_blood_pressure',\n",
       "       'subluxation_or_dislocation', 'mouth_ulcers', 'blood_pooling'],\n",
       "      dtype='object')"
      ]
     },
     "execution_count": 46,
     "metadata": {},
     "output_type": "execute_result"
    }
   ],
   "source": [
    "X_CS_binary_multi.columns"
   ]
  },
  {
   "cell_type": "code",
   "execution_count": 48,
   "metadata": {},
   "outputs": [
    {
     "data": {
      "text/plain": [
       "Index(['age', 'female', 'other', 'total_logs', 'total_log_rate',\n",
       "       'hypothyroidism', 'insomnia', 'depression', 'ehlers-danlos_syndrome',\n",
       "       'gerd', 'psoriasis', 'irritable_bowel_syndrome', 'endometriosis',\n",
       "       'post-traumatic_stress_disorder', 'fibromyalgia',\n",
       "       'chronic_fatigue_syndrome', 'osteoarthritis',\n",
       "       'generalized_anxiety_disorder', 'sjogren's_syndrome', 'arthritis',\n",
       "       'anxiety', 'asthma', 'polycystic_ovary_syndrome_(pcos)', 'allergies',\n",
       "       'raynaud's_disease', 'gastroparesis', 'mast_cell_activation_syndrome',\n",
       "       'myalgic_encephalomyelitis', 'dysautonomia', 'headache', 'fatigue',\n",
       "       'stomach_pain', 'chronic_pain', 'numbness_and_tingling',\n",
       "       'dizziness_or_vertigo', 'joint_pain', 'hand_pain', 'foot_pain',\n",
       "       'inflammation', 'syncope', 'migraine', 'vomiting', 'stomach_cramps',\n",
       "       'nausea', 'back_pain', 'brain_fog', 'swelling', 'stiffness',\n",
       "       'constipation', 'bloating', 'lightheadedness', 'elbow_pain', 'hip_pain',\n",
       "       'rash', 'neck_pain', 'sacroiliac_joint_pain', 'shortness_of_breath',\n",
       "       'weakness', 'fever', 'wrist_pain', 'jaw_pain', 'knee_pain',\n",
       "       'acid_reflux', 'dry_eye', 'tachycardia', 'muscle_spasm', 'nerve_pain',\n",
       "       'muscle_pain', 'sore_throat', 'abdominal_pain', 'shoulder_pain',\n",
       "       'diarrhea', 'irritability', 'leg_pain', 'difficulty_concentrating',\n",
       "       'palpitations', 'light_sensitivity', 'menstrual_cramps', 'chest_pain',\n",
       "       'itchy_skin', 'heat_intolerance', 'dry_mouth', 'blurred_vision',\n",
       "       'mouth_sores', 'dry_eyes', 'sweating', 'faint', 'hives',\n",
       "       'joint_cracking', 'hair_loss', 'low_blood_pressure',\n",
       "       'subluxation_or_dislocation', 'mouth_ulcers', 'blood_pooling'],\n",
       "      dtype='object')"
      ]
     },
     "execution_count": 48,
     "metadata": {},
     "output_type": "execute_result"
    }
   ],
   "source": [
    "#Dropping colinear variables\n",
    "\n",
    "X_CS_binary_multi2 = X_CS_binary_multi.drop(columns=['ids', 'conditions_total', 'symptoms_total', 'total_unique_dates_days', 'fibro_comorbidities'])\n",
    "\n",
    "X_CS_binary_multi2.columns"
   ]
  },
  {
   "cell_type": "code",
   "execution_count": 49,
   "metadata": {},
   "outputs": [],
   "source": [
    "# Creating the remainder and test sets all variables\n",
    "X_remainder_MBinary, X_test_MBinary, y_remainder_MBinary, y_test_MBinary = train_test_split(X_CS_binary_multi2, y_multi, test_size=0.3, random_state=42, stratify=y_multi)"
   ]
  },
  {
   "cell_type": "code",
   "execution_count": 50,
   "metadata": {},
   "outputs": [],
   "source": [
    "X_remainder_MBinary.head(1).to_csv('data/multi_df.csv')"
   ]
  },
  {
   "cell_type": "code",
   "execution_count": 51,
   "metadata": {},
   "outputs": [
    {
     "data": {
      "text/html": [
       "<div>\n",
       "<style scoped>\n",
       "    .dataframe tbody tr th:only-of-type {\n",
       "        vertical-align: middle;\n",
       "    }\n",
       "\n",
       "    .dataframe tbody tr th {\n",
       "        vertical-align: top;\n",
       "    }\n",
       "\n",
       "    .dataframe thead th {\n",
       "        text-align: right;\n",
       "    }\n",
       "</style>\n",
       "<table border=\"1\" class=\"dataframe\">\n",
       "  <thead>\n",
       "    <tr style=\"text-align: right;\">\n",
       "      <th></th>\n",
       "      <th>age</th>\n",
       "      <th>female</th>\n",
       "      <th>other</th>\n",
       "      <th>fibro_comorbidities</th>\n",
       "      <th>postural_orthostatic_tachycardia_syndrome</th>\n",
       "      <th>ehlers-danlos_syndrome</th>\n",
       "      <th>irritable_bowel_syndrome</th>\n",
       "      <th>osteoarthritis</th>\n",
       "      <th>depression</th>\n",
       "      <th>asthma</th>\n",
       "      <th>...</th>\n",
       "      <th>muscle_spasm</th>\n",
       "      <th>pelvic_pain</th>\n",
       "      <th>vomiting</th>\n",
       "      <th>foot_pain</th>\n",
       "      <th>rash</th>\n",
       "      <th>sweating</th>\n",
       "      <th>arm_pain</th>\n",
       "      <th>leg_pain</th>\n",
       "      <th>nerve_pain</th>\n",
       "      <th>menstrual_cramps</th>\n",
       "    </tr>\n",
       "  </thead>\n",
       "  <tbody>\n",
       "    <tr>\n",
       "      <th>0</th>\n",
       "      <td>0</td>\n",
       "      <td>0</td>\n",
       "      <td>0</td>\n",
       "      <td>0</td>\n",
       "      <td>0</td>\n",
       "      <td>0</td>\n",
       "      <td>0</td>\n",
       "      <td>0</td>\n",
       "      <td>0</td>\n",
       "      <td>0</td>\n",
       "      <td>...</td>\n",
       "      <td>0</td>\n",
       "      <td>0</td>\n",
       "      <td>0</td>\n",
       "      <td>0</td>\n",
       "      <td>0</td>\n",
       "      <td>0</td>\n",
       "      <td>0</td>\n",
       "      <td>0</td>\n",
       "      <td>0</td>\n",
       "      <td>0</td>\n",
       "    </tr>\n",
       "  </tbody>\n",
       "</table>\n",
       "<p>1 rows × 70 columns</p>\n",
       "</div>"
      ],
      "text/plain": [
       "   age  female  other  fibro_comorbidities  \\\n",
       "0    0       0      0                    0   \n",
       "\n",
       "   postural_orthostatic_tachycardia_syndrome  ehlers-danlos_syndrome  \\\n",
       "0                                          0                       0   \n",
       "\n",
       "   irritable_bowel_syndrome  osteoarthritis  depression  asthma  ...  \\\n",
       "0                         0               0           0       0  ...   \n",
       "\n",
       "   muscle_spasm  pelvic_pain  vomiting  foot_pain  rash  sweating  arm_pain  \\\n",
       "0             0            0         0          0     0         0         0   \n",
       "\n",
       "   leg_pain  nerve_pain  menstrual_cramps  \n",
       "0         0           0                 0  \n",
       "\n",
       "[1 rows x 70 columns]"
      ]
     },
     "execution_count": 51,
     "metadata": {},
     "output_type": "execute_result"
    }
   ],
   "source": [
    "user_binary_df = pd.read_csv('data/binary_df.csv', index_col='Unnamed: 0')\n",
    "user_binary_df.reset_index(inplace=True)\n",
    "user_binary_df.drop(columns=['index'], inplace=True)\n",
    "\n",
    "user_binary_df.loc[:,:] = 0\n",
    "\n",
    "user_binary_df"
   ]
  },
  {
   "cell_type": "code",
   "execution_count": 52,
   "metadata": {},
   "outputs": [
    {
     "name": "stdout",
     "output_type": "stream",
     "text": [
      "0\n"
     ]
    }
   ],
   "source": [
    "comorbs = list(('anxiety', 'depression', 'migraine', 'chronic_fatigue_syndrome'))\n",
    "comorb_act = 0\n",
    "\n",
    "for co in comorbs:\n",
    "    if user_binary_df.loc[0, co] == 1:\n",
    "        comorb_act = comorb_act + 1\n",
    "\n",
    "print(comorb_act)"
   ]
  },
  {
   "cell_type": "code",
   "execution_count": 53,
   "metadata": {},
   "outputs": [],
   "source": [
    "# Creating the remainder and test sets all variables\n",
    "X_train_MBinary, X_validation_MBinary, y_train_MBinary, y_validation_MBinary = train_test_split(X_remainder_MBinary, y_remainder_MBinary, test_size=0.3, random_state=42, stratify=y_remainder_MBinary)"
   ]
  },
  {
   "cell_type": "code",
   "execution_count": 54,
   "metadata": {},
   "outputs": [
    {
     "data": {
      "text/plain": [
       "Index(['age', 'female', 'other', 'fibro_comorbidities',\n",
       "       'postural_orthostatic_tachycardia_syndrome_activity',\n",
       "       'ehlers-danlos_syndrome_activity', 'irritable_bowel_syndrome_activity',\n",
       "       'osteoarthritis_activity', 'depression_activity', 'asthma_activity',\n",
       "       'anxiety_activity', 'arthritis_activity', 'insomnia_activity',\n",
       "       'endometriosis_activity', 'gerd_activity', 'lupus_activity',\n",
       "       'generalized_anxiety_disorder_activity',\n",
       "       'post-traumatic_stress_disorder_activity',\n",
       "       'chronic_fatigue_syndrome_activity', 'rheumatoid_arthritis_activity',\n",
       "       'polycystic_ovary_syndrome_(pcos)_activity', 'stomach_pain_activity',\n",
       "       'migraine_activity', 'stomach_cramps_activity',\n",
       "       'subluxation_or_dislocation_activity', 'back_pain_activity',\n",
       "       'headache_activity', 'muscle_pain_activity', 'shoulder_pain_activity',\n",
       "       'fatigue_activity', 'bloating_activity', 'abdominal_pain_activity',\n",
       "       'knee_pain_activity', 'brain_fog_activity', 'chronic_pain_activity',\n",
       "       'gas_activity', 'weakness_activity', 'constipation_activity',\n",
       "       'neck_pain_activity', 'diarrhea_activity', 'jaw_pain_activity',\n",
       "       'joint_pain_activity', 'dizziness_or_vertigo_activity',\n",
       "       'light_sensitivity_activity', 'palpitations_activity',\n",
       "       'stiffness_activity', 'sore_throat_activity',\n",
       "       'shortness_of_breath_activity', 'irritability_activity',\n",
       "       'nausea_activity', 'difficulty_concentrating_activity',\n",
       "       'chest_pain_activity', 'numbness_and_tingling_activity',\n",
       "       'acid_reflux_activity', 'swelling_activity', 'lightheadedness_activity',\n",
       "       'hand_pain_activity', 'muscle_ache_activity', 'tachycardia_activity',\n",
       "       'hip_pain_activity', 'muscle_spasm_activity', 'pelvic_pain_activity',\n",
       "       'vomiting_activity', 'foot_pain_activity', 'rash_activity',\n",
       "       'sweating_activity', 'arm_pain_activity', 'leg_pain_activity',\n",
       "       'nerve_pain_activity', 'menstrual_cramps_activity'],\n",
       "      dtype='object')"
      ]
     },
     "execution_count": 54,
     "metadata": {},
     "output_type": "execute_result"
    }
   ],
   "source": [
    "X_remainder_AcBinary.columns"
   ]
  },
  {
   "cell_type": "code",
   "execution_count": 55,
   "metadata": {},
   "outputs": [],
   "source": [
    "# scaling remainder and test\n",
    "\n",
    "Multi_Scaler2 = StandardScaler() # initialize\n",
    "\n",
    "Multi_Scaler2.fit(X_remainder_MBinary) # fit\n",
    "\n",
    "X_remainder_MB_scaled = Multi_Scaler2.transform(X_remainder_MBinary) # transform\n",
    "\n",
    "X_test_MB_scaled = Multi_Scaler2.transform(X_test_MBinary)"
   ]
  },
  {
   "cell_type": "markdown",
   "metadata": {},
   "source": [
    "Re-testing the model on train and validation:"
   ]
  },
  {
   "cell_type": "code",
   "execution_count": 56,
   "metadata": {},
   "outputs": [
    {
     "data": {
      "text/plain": [
       "0.7806379406827084"
      ]
     },
     "execution_count": 56,
     "metadata": {},
     "output_type": "execute_result"
    }
   ],
   "source": [
    "import pickle\n",
    "LR_multi_final = LogisticRegression(C=0.01, solver='saga', penalty='l2') # initialize\n",
    "\n",
    "LR_multi_final.fit(X_remainder_MB_scaled, y_remainder_MBinary) # fit\n",
    "\n",
    "pickle.dump(LR_multi_final, open('Multi_final.pkl', 'wb'))\n",
    "\n",
    "LR_multi_final.score(X_remainder_MB_scaled, y_remainder_MBinary) #score"
   ]
  }
 ],
 "metadata": {
  "kernelspec": {
   "display_name": "Python 3.8.13 ('capstone')",
   "language": "python",
   "name": "python3"
  },
  "language_info": {
   "codemirror_mode": {
    "name": "ipython",
    "version": 3
   },
   "file_extension": ".py",
   "mimetype": "text/x-python",
   "name": "python",
   "nbconvert_exporter": "python",
   "pygments_lexer": "ipython3",
   "version": "3.8.13"
  },
  "orig_nbformat": 4,
  "vscode": {
   "interpreter": {
    "hash": "2761fbe4027e8e614a8657ef08aca591a9aebbbeeb69206eba2fd2468a2532d8"
   }
  }
 },
 "nbformat": 4,
 "nbformat_minor": 2
}
